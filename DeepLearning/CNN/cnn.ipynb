{
 "cells": [
  {
   "cell_type": "markdown",
   "metadata": {},
   "source": [
    "# PyTorch - CNN\n",
    "\n",
    "for final exam"
   ]
  },
  {
   "cell_type": "markdown",
   "metadata": {},
   "source": [
    "## Import Libraries"
   ]
  },
  {
   "cell_type": "code",
   "execution_count": 76,
   "metadata": {},
   "outputs": [],
   "source": [
    "import torch\n",
    "import torch.nn as nn # definng neural network\n",
    "import torch.nn.functional as F # helper\n",
    "from torch.utils.data import DataLoader # batching\n",
    "from torchvision import datasets, transforms # loading datasets\n",
    "from torchvision.utils import make_grid #for visualization\n",
    "from torchvision.transforms import ToTensor\n",
    "\n",
    "import numpy as np\n",
    "import pandas as pd\n",
    "from sklearn.metrics import confusion_matrix\n",
    "import matplotlib.pyplot as plt"
   ]
  },
  {
   "cell_type": "code",
   "execution_count": 77,
   "metadata": {},
   "outputs": [],
   "source": []
  },
  {
   "cell_type": "code",
   "execution_count": 78,
   "metadata": {},
   "outputs": [],
   "source": [
    "# installation package\n",
    "# !pip install torchvision"
   ]
  },
  {
   "cell_type": "code",
   "execution_count": 79,
   "metadata": {},
   "outputs": [
    {
     "data": {
      "text/plain": [
       "'0.16.0'"
      ]
     },
     "execution_count": 79,
     "metadata": {},
     "output_type": "execute_result"
    }
   ],
   "source": [
    "# check the version\n",
    "import torchvision\n",
    "torchvision.__version__"
   ]
  },
  {
   "cell_type": "code",
   "execution_count": 80,
   "metadata": {},
   "outputs": [
    {
     "data": {
      "text/plain": [
       "<torch._C.Generator at 0x1155c7350>"
      ]
     },
     "execution_count": 80,
     "metadata": {},
     "output_type": "execute_result"
    }
   ],
   "source": [
    "# in deep learning, cannot do Cross Validation.\n",
    "# Instead, we can use seed -- to help serve as alternative cross-validation in deep learning --\n",
    "torch.manual_seed (47)"
   ]
  },
  {
   "cell_type": "markdown",
   "metadata": {},
   "source": [
    "## 1. Load the Dataset"
   ]
  },
  {
   "cell_type": "code",
   "execution_count": 81,
   "metadata": {},
   "outputs": [],
   "source": [
    "# define some transforms (convert 0-255 to 0-1)\n",
    "transform = transforms.ToTensor()\n",
    "\n",
    "# if you wan to crop the image, rotate the image; they are all done in this transform\n",
    "\n",
    "# use the pytorch datasets to load MNIST - dataset of digit images\n",
    "# train, test\n",
    "train_data = datasets.MNIST(root = 'data', train = True, download= True, transform = transform)\n",
    "\n",
    "# validation set\n",
    "train_set, val_set = torch.utils.data.random_split (train_data, [50000,10000])\n",
    "\n",
    "# test set\n",
    "test_data = datasets.MNIST (root='data', train = False, download= True, transform = transform)"
   ]
  },
  {
   "cell_type": "code",
   "execution_count": 82,
   "metadata": {},
   "outputs": [
    {
     "data": {
      "text/plain": [
       "Dataset MNIST\n",
       "    Number of datapoints: 60000\n",
       "    Root location: data\n",
       "    Split: Train\n",
       "    StandardTransform\n",
       "Transform: ToTensor()"
      ]
     },
     "execution_count": 82,
     "metadata": {},
     "output_type": "execute_result"
    }
   ],
   "source": [
    "train_data"
   ]
  },
  {
   "cell_type": "code",
   "execution_count": 83,
   "metadata": {},
   "outputs": [
    {
     "data": {
      "text/plain": [
       "Dataset MNIST\n",
       "    Number of datapoints: 10000\n",
       "    Root location: data\n",
       "    Split: Test\n",
       "    StandardTransform\n",
       "Transform: ToTensor()"
      ]
     },
     "execution_count": 83,
     "metadata": {},
     "output_type": "execute_result"
    }
   ],
   "source": [
    "test_data"
   ]
  },
  {
   "cell_type": "code",
   "execution_count": 84,
   "metadata": {},
   "outputs": [
    {
     "data": {
      "text/plain": [
       "<torch.utils.data.dataset.Subset at 0x29eaa6450>"
      ]
     },
     "execution_count": 84,
     "metadata": {},
     "output_type": "execute_result"
    }
   ],
   "source": [
    "val_set"
   ]
  },
  {
   "cell_type": "markdown",
   "metadata": {},
   "source": [
    " ## 2. DataLoaders"
   ]
  },
  {
   "cell_type": "code",
   "execution_count": 85,
   "metadata": {},
   "outputs": [],
   "source": [
    "# bigger batch size is prefer\n",
    "# if batch size is too big >> CUDA out of memory\n",
    "# buy more GPU or reduce the batch size\n",
    "train_loader = DataLoader (train_set, batch_size = 64, shuffle = True) # this shuffle will depend on our seed\n",
    "val_loader = DataLoader (val_set, batch_size = 64, shuffle = True)\n",
    "test_loader = DataLoader (test_data, batch_size = 10000, shuffle = False) # because no training"
   ]
  },
  {
   "cell_type": "code",
   "execution_count": 86,
   "metadata": {},
   "outputs": [
    {
     "data": {
      "text/plain": [
       "782"
      ]
     },
     "execution_count": 86,
     "metadata": {},
     "output_type": "execute_result"
    }
   ],
   "source": [
    "len(train_loader) # 782 * 64 = 50,048 = 50000 + 48"
   ]
  },
  {
   "cell_type": "code",
   "execution_count": 87,
   "metadata": {},
   "outputs": [
    {
     "name": "stdout",
     "output_type": "stream",
     "text": [
      "images shape =  torch.Size([64, 1, 28, 28])\n",
      "label shape = torch.Size([64])\n"
     ]
    },
    {
     "data": {
      "text/plain": [
       "7"
      ]
     },
     "execution_count": 87,
     "metadata": {},
     "output_type": "execute_result"
    },
    {
     "data": {
      "image/png": "[encoded data removed]",
      "text/plain": [
       "<Figure size 300x300 with 1 Axes>"
      ]
     },
     "metadata": {},
     "output_type": "display_data"
    }
   ],
   "source": [
    "for images, labels in train_loader: # taking 64 images, corresponding 64 labels\n",
    "    break\n",
    "print(f\"images shape = \", images.shape)# (64 images, 1 channel, height, width)\n",
    "print (f\"label shape =\", labels.shape)\n",
    "# print (images)\n",
    "the_image = images[0] # get the first image\n",
    "the_image = np.transpose((the_image), (1,2,0)) # transporse the dimension\n",
    "the_image.shape\n",
    "plt.figure(figsize=(3,3))\n",
    "plt.imshow(the_image)\n",
    "\n",
    "labels[0].item()\n",
    "# plt.imshow?? # (h,w,c)"
   ]
  },
  {
   "cell_type": "markdown",
   "metadata": {},
   "source": [
    "## 3. Define the network"
   ]
  },
  {
   "cell_type": "code",
   "execution_count": 88,
   "metadata": {},
   "outputs": [
    {
     "data": {
      "text/plain": [
       "torch.Size([64, 1, 28, 28])"
      ]
     },
     "execution_count": 88,
     "metadata": {},
     "output_type": "execute_result"
    }
   ],
   "source": [
    "images.shape # input (bs, ch, h, w)"
   ]
  },
  {
   "cell_type": "code",
   "execution_count": 89,
   "metadata": {},
   "outputs": [],
   "source": [
    "# understanding the relationship between the input an dconvolutional layer\n",
    "# conv1d  = time series, language, signal\n",
    "# conv2d = images, spectrograms\n",
    "\n",
    "# nn.Conv2d (1, 1, 3, 1, 1)\n",
    "# kernel_size = [3,3] >> 3, [5,5] >> 5\n",
    "layer1 = nn.Conv2d(in_channels = 1, out_channels = 1, kernel_size = 3, stride = 1, padding = 1)"
   ]
  },
  {
   "cell_type": "code",
   "execution_count": 90,
   "metadata": {},
   "outputs": [
    {
     "data": {
      "text/plain": [
       "torch.Size([64, 1, 28, 28])"
      ]
     },
     "execution_count": 90,
     "metadata": {},
     "output_type": "execute_result"
    }
   ],
   "source": [
    "# how to pass something into this layer\n",
    "output = layer1(images)\n",
    "output.shape # (bs, out-channel, h, w)"
   ]
  },
  {
   "cell_type": "code",
   "execution_count": 91,
   "metadata": {},
   "outputs": [
    {
     "data": {
      "text/plain": [
       "torch.Size([64, 64])"
      ]
     },
     "execution_count": 91,
     "metadata": {},
     "output_type": "execute_result"
    }
   ],
   "source": [
    "# check the output for each layer\n",
    "layer1 = nn.Conv2d (1, 5, 3, 1, 1)\n",
    "layer2 = nn.Conv2d (5, 10, 3, 1, 1)\n",
    "\n",
    "layer3 = nn.Linear (10 * 28 * 28, 64)\n",
    "\n",
    "out = layer2(layer1(images))\n",
    "out = out.reshape ((-1, 10 *28*28))\n",
    "out2 = layer3(out)\n",
    "out2.shape"
   ]
  },
  {
   "cell_type": "code",
   "execution_count": 95,
   "metadata": {},
   "outputs": [],
   "source": [
    "# class Chaky_CNN (nn.Module):\n",
    "    \n",
    "#     def __init__(self):  # init all hyperparameters and layers\n",
    "#         super().__init__() # inherit everything from nn.Module\n",
    "#         self.layer1 = nn.Conv2d (1, 5, 3, 1, 1)\n",
    "#         self.layer2 = nn.Conv2d (5, 10, 3, 1, 1) # note: here input layer is 5 as layer 1 output layer is 5\n",
    "#         self.layer3 = nn.Linear (10 * 28 * 28 , 120)\n",
    "#         self.layer4 = nn.Linear (120, 84) # why 120, 84 - chaky example\n",
    "#         self.layer5 = nn.Linear (84, 10) # why 10x10 classes - example\n",
    "    \n",
    "#     def forward(self, images): # performing the forward pass through all layers\n",
    "#         # images: 64, 1, 28, 28\n",
    "#         out = F.relu(self.layer1(images))\n",
    "#         # out: 64, 5, 28, 28\n",
    "#         out = F.relu(self.layer2(out))\n",
    "#         # out: 64, 10, 28, 28\n",
    "#         out.reshape((-1, 10*28*28))\n",
    "#         # out: 64, 7840\n",
    "#         out = F.relu(self.layer3(out))\n",
    "#         # out: 64, 120\n",
    "#         out = F.relu(self.layer4(out))\n",
    "#         # out: 64, 84\n",
    "#         out = F.relu(self.layer5(out))\n",
    "#         # out: 64, 10\n",
    "#         return out\n",
    "        "
   ]
  },
  {
   "cell_type": "code",
   "execution_count": 99,
   "metadata": {},
   "outputs": [
    {
     "data": {
      "text/plain": [
       "tensor([1, 3, 0, 2])"
      ]
     },
     "execution_count": 99,
     "metadata": {},
     "output_type": "execute_result"
    }
   ],
   "source": [
    "# What is relu?\n",
    "numbers = torch.tensor ([1, 3, -9, 2])\n",
    "numbers\n",
    "F.relu(numbers)"
   ]
  },
  {
   "cell_type": "code",
   "execution_count": 100,
   "metadata": {},
   "outputs": [],
   "source": [
    "class Chaky_CNN(nn.Module):\n",
    "    \n",
    "    def __init__(self): #init all hyperparameters and layers\n",
    "        super().__init__() #inherit everything from nn.Module\n",
    "        self.layer1 = nn.Conv2d(1, 5, 3, 1, 1) \n",
    "        self.layer2 = nn.Conv2d(5, 10, 3, 1, 1)\n",
    "        self.layer3 = nn.Linear(10 * 28 * 28, 120)\n",
    "        self.layer4 = nn.Linear(120, 84) #why 120, 84 - chaky examples\n",
    "        self.layer5 = nn.Linear(84, 10)  #why 10, 10 classes\n",
    "        \n",
    "    def forward(self, images):  #performing the forward pass through all layers\n",
    "        out = F.relu(self.layer1(images))\n",
    "        out = F.relu(self.layer2(out))\n",
    "        out = out.reshape((-1, 10*28*28))\n",
    "        out = F.relu(self.layer3(out))\n",
    "        out = F.relu(self.layer4(out))\n",
    "        out = F.relu(self.layer5(out))\n",
    "        return out        "
   ]
  },
  {
   "cell_type": "code",
   "execution_count": 101,
   "metadata": {},
   "outputs": [
    {
     "name": "stdout",
     "output_type": "stream",
     "text": [
      "torch.Size([64, 10])\n"
     ]
    }
   ],
   "source": [
    "# test first\n",
    "\n",
    "chaky_model = Chaky_CNN()\n",
    "output      = chaky_model(images)\n",
    "print (output.shape)"
   ]
  },
  {
   "cell_type": "code",
   "execution_count": 102,
   "metadata": {},
   "outputs": [],
   "source": [
    "#skip counting the parameters"
   ]
  },
  {
   "cell_type": "markdown",
   "metadata": {},
   "source": [
    "## 4. Define the loss and optimizer"
   ]
  },
  {
   "cell_type": "code",
   "execution_count": 106,
   "metadata": {},
   "outputs": [],
   "source": [
    "criterion = nn.CrossEntropyLoss()\n",
    "optimizer = torch.optim.Adam(chaky_model.parameters(), lr = 0.01)"
   ]
  },
  {
   "cell_type": "markdown",
   "metadata": {},
   "source": [
    "## 5. Train"
   ]
  },
  {
   "cell_type": "code",
   "execution_count": 109,
   "metadata": {},
   "outputs": [],
   "source": [
    "num_epochs = 1\n",
    "# 1. loop epochs\n",
    "for i in range(num_epochs):\n",
    "    \n",
    "    # 2. loop train loader\n",
    "    for images, labels in train_loader:\n",
    "        \n",
    "        # 3. predict / forward pass\n",
    "        y_hat = chaky_model(images)\n",
    "        \n",
    "        # 4. loss\n",
    "        loss = criterion (y_hat, labels)\n",
    "        \n",
    "        # 5. calculate gradients\n",
    "        optimizer.zero_grad()\n",
    "        loss.backward()\n",
    "        \n",
    "        # 6. update weight\n",
    "        optimizer.step()\n",
    "        # print(loss)\n",
    "        "
   ]
  },
  {
   "cell_type": "code",
   "execution_count": 111,
   "metadata": {},
   "outputs": [
    {
     "data": {
      "text/plain": [
       "0.8997066020965576"
      ]
     },
     "execution_count": 111,
     "metadata": {},
     "output_type": "execute_result"
    }
   ],
   "source": [
    "loss.item()"
   ]
  },
  {
   "cell_type": "markdown",
   "metadata": {},
   "source": [
    "## 6. Testing"
   ]
  },
  {
   "cell_type": "code",
   "execution_count": 112,
   "metadata": {},
   "outputs": [
    {
     "name": "stdout",
     "output_type": "stream",
     "text": [
      "Cross Entropy Loss: 1.225827932357788\n"
     ]
    }
   ],
   "source": [
    "chaky_model.eval() # this will turn off dropout, batch norm\n",
    "with torch.no_grad(): # this will turn off gradient calculations\n",
    "    for images, labels in test_loader:\n",
    "        \n",
    "        # 1. predict\n",
    "        y_hat = chaky_model (images)\n",
    "        \n",
    "        # 2. loss\n",
    "        loss = criterion (y_hat, labels)\n",
    "        \n",
    "print(\"Cross Entropy Loss:\", loss.item())"
   ]
  },
  {
   "cell_type": "markdown",
   "metadata": {},
   "source": [
    "## 7. Analysis"
   ]
  },
  {
   "cell_type": "code",
   "execution_count": 114,
   "metadata": {},
   "outputs": [
    {
     "data": {
      "text/plain": [
       "(torch.Size([10000, 10]), torch.Size([10000]))"
      ]
     },
     "execution_count": 114,
     "metadata": {},
     "output_type": "execute_result"
    }
   ],
   "source": [
    "y_hat.shape, labels.shape"
   ]
  },
  {
   "cell_type": "code",
   "execution_count": 115,
   "metadata": {},
   "outputs": [
    {
     "data": {
      "text/plain": [
       "torch.Size([10000])"
      ]
     },
     "execution_count": 115,
     "metadata": {},
     "output_type": "execute_result"
    }
   ],
   "source": [
    "y_hat_pred = torch.max (y_hat, 1)[1]\n",
    "y_hat_pred.shape"
   ]
  },
  {
   "cell_type": "code",
   "execution_count": 117,
   "metadata": {},
   "outputs": [
    {
     "data": {
      "text/plain": [
       "array([[ 964, 1100,    5,    3,  884,  804,  938,    2,  889,   19],\n",
       "       [   0,    0,    0,    0,    0,    0,    0,    0,    0,    0],\n",
       "       [   7,   10, 1002,    8,   16,    2,   15,   17,   10,    0],\n",
       "       [   6,   14,   16,  981,    0,   31,    4,    9,   21,    5],\n",
       "       [   0,    0,    0,    0,    0,    0,    0,    0,    0,    0],\n",
       "       [   0,    0,    0,    0,    0,    0,    0,    0,    0,    0],\n",
       "       [   0,    0,    0,    0,    0,    0,    0,    0,    0,    0],\n",
       "       [   2,    8,    9,    5,   14,    5,    1,  983,    5,    8],\n",
       "       [   0,    0,    0,    0,    0,    0,    0,    0,    0,    0],\n",
       "       [   1,    3,    0,   13,   68,   50,    0,   17,   49,  977]])"
      ]
     },
     "execution_count": 117,
     "metadata": {},
     "output_type": "execute_result"
    }
   ],
   "source": [
    "# confusion matrix\n",
    "confusion_matrix (y_hat_pred, labels)"
   ]
  },
  {
   "cell_type": "markdown",
   "metadata": {},
   "source": [
    "## 8. Inference"
   ]
  },
  {
   "cell_type": "code",
   "execution_count": 119,
   "metadata": {},
   "outputs": [
    {
     "data": {
      "text/plain": [
       "7"
      ]
     },
     "execution_count": 119,
     "metadata": {},
     "output_type": "execute_result"
    }
   ],
   "source": [
    "test_data[0][0].shape\n",
    "test_data[0][1]"
   ]
  },
  {
   "cell_type": "code",
   "execution_count": 121,
   "metadata": {},
   "outputs": [
    {
     "data": {
      "text/plain": [
       "<matplotlib.image.AxesImage at 0x29f168290>"
      ]
     },
     "execution_count": 121,
     "metadata": {},
     "output_type": "execute_result"
    },
    {
     "data": {
      "image/png": "[encoded data removed]",
      "text/plain": [
       "<Figure size 640x480 with 1 Axes>"
      ]
     },
     "metadata": {},
     "output_type": "display_data"
    }
   ],
   "source": [
    "plt.imshow(np.transpose(test_data[0][0],(1,2,0)))\n"
   ]
  },
  {
   "cell_type": "code",
   "execution_count": 122,
   "metadata": {},
   "outputs": [],
   "source": [
    "pred = chaky_model(test_data[0][0])"
   ]
  },
  {
   "cell_type": "code",
   "execution_count": 123,
   "metadata": {},
   "outputs": [
    {
     "data": {
      "text/plain": [
       "tensor([[ 0.0000,  0.0000,  0.0000,  8.1751,  0.0000,  0.0000,  0.0000, 15.4453,\n",
       "          0.0000,  4.3424]], grad_fn=<ReluBackward0>)"
      ]
     },
     "execution_count": 123,
     "metadata": {},
     "output_type": "execute_result"
    }
   ],
   "source": [
    "pred"
   ]
  },
  {
   "cell_type": "code",
   "execution_count": 124,
   "metadata": {},
   "outputs": [],
   "source": [
    "# among the probability of output number, 7 is the highest probability."
   ]
  }
 ],
 "metadata": {
  "kernelspec": {
   "display_name": "Python 3",
   "language": "python",
   "name": "python3"
  },
  "language_info": {
   "codemirror_mode": {
    "name": "ipython",
    "version": 3
   },
   "file_extension": ".py",
   "mimetype": "text/x-python",
   "name": "python",
   "nbconvert_exporter": "python",
   "pygments_lexer": "ipython3",
   "version": "3.11.4"
  }
 },
 "nbformat": 4,
 "nbformat_minor": 2
}
