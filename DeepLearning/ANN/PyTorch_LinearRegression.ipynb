{
 "cells": [
  {
   "cell_type": "markdown",
   "metadata": {},
   "source": [
    "# Beginner tutorial on PyTorch an ANN - Articficial Neural Network"
   ]
  },
  {
   "cell_type": "code",
   "execution_count": 2,
   "metadata": {},
   "outputs": [],
   "source": [
    "import torch\n",
    "import numpy as np\n",
    "import sys"
   ]
  },
  {
   "cell_type": "code",
   "execution_count": 3,
   "metadata": {},
   "outputs": [
    {
     "data": {
      "text/plain": [
       "False"
      ]
     },
     "execution_count": 3,
     "metadata": {},
     "output_type": "execute_result"
    }
   ],
   "source": [
    "# deep learning can use CPU or GPU\n",
    "torch.cuda.is_available()"
   ]
  },
  {
   "cell_type": "code",
   "execution_count": 4,
   "metadata": {},
   "outputs": [
    {
     "data": {
      "text/plain": [
       "device(type='cpu')"
      ]
     },
     "execution_count": 4,
     "metadata": {},
     "output_type": "execute_result"
    }
   ],
   "source": [
    "# torch.device('cuda0')\n",
    "device = torch.device('cpu')\n",
    "device"
   ]
  },
  {
   "cell_type": "markdown",
   "metadata": {},
   "source": [
    "## Let's start"
   ]
  },
  {
   "cell_type": "markdown",
   "metadata": {},
   "source": [
    "<img src = 'japan.png'/>"
   ]
  },
  {
   "cell_type": "code",
   "execution_count": 6,
   "metadata": {},
   "outputs": [
    {
     "data": {
      "text/plain": [
       "'\\nm = 5\\nn = 3 --> temp, rain, humidity\\ny = yield of apples and orange\\n'"
      ]
     },
     "execution_count": 6,
     "metadata": {},
     "output_type": "execute_result"
    }
   ],
   "source": [
    "'''\n",
    "m = 5\n",
    "n = 3 --> temp, rain, humidity\n",
    "y = yield of apples and orange\n",
    "'''"
   ]
  },
  {
   "cell_type": "markdown",
   "metadata": {},
   "source": [
    "## Step 1 . Specify X and y"
   ]
  },
  {
   "cell_type": "code",
   "execution_count": 7,
   "metadata": {},
   "outputs": [],
   "source": [
    "# Input (temp, rainfall, humidity)\n",
    "X_train = np.array([[73, 67, 43], [91, 88, 64], [87, 134, 58], \n",
    "                   [102, 43, 37], [69, 96, 70], [73, 67, 43], \n",
    "                   [91, 88, 64], [87, 134, 58], [102, 43, 37], \n",
    "                   [69, 96, 70], [73, 67, 43], [91, 88, 64], \n",
    "                   [87, 134, 58], [102, 43, 37], [69, 96, 70]], \n",
    "                  dtype='float32')\n",
    "\n",
    "# Targets (apples, oranges)\n",
    "y_train = np.array([[56, 70], [81, 101], [119, 133], \n",
    "                    [22, 37], [103, 119], [56, 70], \n",
    "                    [81, 101], [119, 133], [22, 37], \n",
    "                    [103, 119], [56, 70], [81, 101], \n",
    "                    [119, 133], [22, 37], [103, 119]], \n",
    "                   dtype='float32')"
   ]
  },
  {
   "cell_type": "code",
   "execution_count": 8,
   "metadata": {},
   "outputs": [
    {
     "data": {
      "text/plain": [
       "(torch.Size([15, 3]), torch.Size([15, 2]))"
      ]
     },
     "execution_count": 8,
     "metadata": {},
     "output_type": "execute_result"
    }
   ],
   "source": [
    "# have to convert numpy to torch tesors\n",
    "# torch tensors are simple numpy version of pytorch\n",
    "inputs = torch.from_numpy(X_train)\n",
    "targets = torch.from_numpy(y_train)\n",
    "\n",
    "# torch.Tensor\n",
    "type(inputs), type(targets) \n",
    "'''\n",
    "torch inclued gradient descent for every steps\n",
    "'''\n",
    "\n",
    "inputs.shape, targets.shape\n",
    "inputs.size(), targets.size()"
   ]
  },
  {
   "cell_type": "markdown",
   "metadata": {},
   "source": [
    "## 2. Dataloaders\n",
    "\n",
    "Remember in ML, we have to do the batch learning outselve, like mini-batch, stochastic batch. PyTorch has a class called DataLoaders that automatically do this for you.\n",
    "\n",
    "It's optional whether you wanna use it or just use it - don't reinvent the wheel"
   ]
  },
  {
   "cell_type": "code",
   "execution_count": 9,
   "metadata": {},
   "outputs": [
    {
     "data": {
      "text/plain": [
       "(tensor([73., 67., 43.]), tensor([56., 70.]))"
      ]
     },
     "execution_count": 9,
     "metadata": {},
     "output_type": "execute_result"
    }
   ],
   "source": [
    "# define a dataset so that dataloaders understand\n",
    "from torch.utils.data import TensorDataset\n",
    "\n",
    "train_dataset = TensorDataset (inputs, targets)\n",
    "\n",
    "train_dataset[0]"
   ]
  },
  {
   "cell_type": "code",
   "execution_count": 10,
   "metadata": {},
   "outputs": [],
   "source": [
    "from torch.utils.data import DataLoader\n",
    "\n",
    "batch_size = 3 # for no reason - here i am using  a mini-batch of size 3\n",
    "\n",
    "train_dl = DataLoader (train_dataset, batch_size, shuffle=False) # you should use Shuffle = True"
   ]
  },
  {
   "cell_type": "code",
   "execution_count": 11,
   "metadata": {},
   "outputs": [
    {
     "name": "stdout",
     "output_type": "stream",
     "text": [
      "------new batch--------\n",
      "tensor([[ 73.,  67.,  43.],\n",
      "        [ 91.,  88.,  64.],\n",
      "        [ 87., 134.,  58.]])\n",
      "tensor([[ 56.,  70.],\n",
      "        [ 81., 101.],\n",
      "        [119., 133.]])\n",
      "------new batch--------\n",
      "tensor([[102.,  43.,  37.],\n",
      "        [ 69.,  96.,  70.],\n",
      "        [ 73.,  67.,  43.]])\n",
      "tensor([[ 22.,  37.],\n",
      "        [103., 119.],\n",
      "        [ 56.,  70.]])\n",
      "------new batch--------\n",
      "tensor([[ 91.,  88.,  64.],\n",
      "        [ 87., 134.,  58.],\n",
      "        [102.,  43.,  37.]])\n",
      "tensor([[ 81., 101.],\n",
      "        [119., 133.],\n",
      "        [ 22.,  37.]])\n",
      "------new batch--------\n",
      "tensor([[69., 96., 70.],\n",
      "        [73., 67., 43.],\n",
      "        [91., 88., 64.]])\n",
      "tensor([[103., 119.],\n",
      "        [ 56.,  70.],\n",
      "        [ 81., 101.]])\n",
      "------new batch--------\n",
      "tensor([[ 87., 134.,  58.],\n",
      "        [102.,  43.,  37.],\n",
      "        [ 69.,  96.,  70.]])\n",
      "tensor([[119., 133.],\n",
      "        [ 22.,  37.],\n",
      "        [103., 119.]])\n"
     ]
    }
   ],
   "source": [
    "for x, y in train_dl:\n",
    "    print(\"------new batch--------\")\n",
    "    print(x) # this will give you batch_size of x, e.g. 3 sets of x\n",
    "    print(y) # this will give you batch_size of y, e.g. 3 sets of y"
   ]
  },
  {
   "cell_type": "markdown",
   "metadata": {},
   "source": [
    "## 3. Define some layers\n",
    "\n",
    "don't be confuse about layers. it's simply matrix multiplication. It's true until now."
   ]
  },
  {
   "cell_type": "code",
   "execution_count": 12,
   "metadata": {},
   "outputs": [],
   "source": [
    "import torch.nn as nn  # nn ==> neural networt"
   ]
  },
  {
   "cell_type": "code",
   "execution_count": 13,
   "metadata": {},
   "outputs": [],
   "source": [
    "# define Linear Layer: 3 is the incoming features and 2 is the output feature\n",
    "some_random_layer = nn.Linear(3,2)"
   ]
  },
  {
   "cell_type": "code",
   "execution_count": 14,
   "metadata": {},
   "outputs": [
    {
     "name": "stdout",
     "output_type": "stream",
     "text": [
      "Parameter containing:\n",
      "tensor([[ 0.5153,  0.5054,  0.3009],\n",
      "        [ 0.3160, -0.3148, -0.5201]], requires_grad=True)\n",
      "torch.Size([2, 3])\n",
      "Parameter containing:\n",
      "tensor([ 0.2187, -0.2698], requires_grad=True)\n",
      "torch.Size([2])\n"
     ]
    }
   ],
   "source": [
    "# matrix --> randomly initialize --> using standardization methods\n",
    "print (some_random_layer.weight)\n",
    "print (some_random_layer.weight.shape)\n",
    "print (some_random_layer.bias)\n",
    "print (some_random_layer.bias.shape)"
   ]
  },
  {
   "cell_type": "code",
   "execution_count": 15,
   "metadata": {},
   "outputs": [
    {
     "data": {
      "text/plain": [
       "torch.Size([15, 2])"
      ]
     },
     "execution_count": 15,
     "metadata": {},
     "output_type": "execute_result"
    }
   ],
   "source": [
    "outputs = some_random_layer (inputs) # do matrix multiplication of incoming layer\n",
    "# input = (15,3) @ (3,2) = (15,2)\n",
    "\n",
    "outputs.shape"
   ]
  },
  {
   "cell_type": "code",
   "execution_count": 16,
   "metadata": {},
   "outputs": [],
   "source": [
    "# how do chatgpt count their number of parameters - 175b parameters\n",
    "\n",
    "# count their number of parameters\n",
    "# some_random_layer.parameters()"
   ]
  },
  {
   "cell_type": "code",
   "execution_count": 17,
   "metadata": {},
   "outputs": [
    {
     "name": "stdout",
     "output_type": "stream",
     "text": [
      "Parameter containing:\n",
      "tensor([[ 0.5153,  0.5054,  0.3009],\n",
      "        [ 0.3160, -0.3148, -0.5201]], requires_grad=True)\n",
      "Parameter containing:\n",
      "tensor([ 0.2187, -0.2698], requires_grad=True)\n",
      "total number of parameter= 8\n"
     ]
    }
   ],
   "source": [
    "# count their number of parameters\n",
    "total_num_of_param = 0\n",
    "for param in some_random_layer.parameters():\n",
    "    print (param)\n",
    "    total_num_of_param += param.numel()\n",
    "\n",
    "print (f\"total number of parameter=\", total_num_of_param)"
   ]
  },
  {
   "cell_type": "markdown",
   "metadata": {},
   "source": [
    "## 4. Define loss function"
   ]
  },
  {
   "cell_type": "code",
   "execution_count": 20,
   "metadata": {},
   "outputs": [],
   "source": [
    "# recall that this is a regression problem\n",
    "# so we have to use MSE\n",
    "# you can code it by yourself - or you can use built-in pytorch module\n",
    "\n",
    "criterion = nn.MSELoss()"
   ]
  },
  {
   "cell_type": "code",
   "execution_count": 21,
   "metadata": {},
   "outputs": [
    {
     "data": {
      "text/plain": [
       "tensor([[ 56.,  70.],\n",
       "        [ 81., 101.],\n",
       "        [119., 133.],\n",
       "        [ 22.,  37.],\n",
       "        [103., 119.],\n",
       "        [ 56.,  70.],\n",
       "        [ 81., 101.],\n",
       "        [119., 133.],\n",
       "        [ 22.,  37.],\n",
       "        [103., 119.],\n",
       "        [ 56.,  70.],\n",
       "        [ 81., 101.],\n",
       "        [119., 133.],\n",
       "        [ 22.,  37.],\n",
       "        [103., 119.]])"
      ]
     },
     "execution_count": 21,
     "metadata": {},
     "output_type": "execute_result"
    }
   ],
   "source": [
    "targets"
   ]
  },
  {
   "cell_type": "code",
   "execution_count": 24,
   "metadata": {},
   "outputs": [
    {
     "name": "stdout",
     "output_type": "stream",
     "text": [
      "get mse =  tensor(9202.0371, grad_fn=<MseLossBackward0>)\n",
      "get mse value =  9202.037109375\n"
     ]
    }
   ],
   "source": [
    "mse = criterion (targets, outputs)\n",
    "print (f\"get mse = \",mse)\n",
    "print (f\"get mse value = \", mse.item())"
   ]
  },
  {
   "cell_type": "markdown",
   "metadata": {},
   "source": [
    "## 5. Define our gradient descent algorithm\n",
    "\n",
    "Recall we use the gradient descent algorithm  * w = w - alpha * gradient *\n",
    "In fact, there are more, momentum, Adam --> adaptive learning rate"
   ]
  },
  {
   "cell_type": "code",
   "execution_count": 27,
   "metadata": {},
   "outputs": [],
   "source": [
    "optimizer = torch.optim.SGD(some_random_layer.parameters(), lr = 0.0001, momentum = 0.9)"
   ]
  },
  {
   "cell_type": "markdown",
   "metadata": {},
   "source": [
    "## Putting them together - actually learning!\n",
    "\n",
    "basically same as linear / logistic regression\n",
    "\n",
    "- 1. loop epochs\n",
    "    - 2. loop the mini batch of samples (DataLoaders are using without-replacement)\n",
    "        - Optional: put your data into GPU using .device() (if you have GPU)\n",
    "        - 2.1 Predict\n",
    "        - 2.2 Calculate loss\n",
    "        - 2.3 Calculate gradients\n",
    "        - 2.4 Update --> Backpropagate\n",
    "\n",
    "    Print the samary of each epoch"
   ]
  },
  {
   "cell_type": "code",
   "execution_count": 37,
   "metadata": {},
   "outputs": [
    {
     "name": "stdout",
     "output_type": "stream",
     "text": [
      "Original:  Parameter containing:\n",
      "tensor([[-0.3935,  0.8477,  0.6812],\n",
      "        [-0.3005,  0.7938,  0.9069]], requires_grad=True)\n",
      "Updated:  Parameter containing:\n",
      "tensor([[-0.4019,  0.8403,  0.6758],\n",
      "        [-0.2973,  0.7963,  0.9084]], requires_grad=True)\n",
      "Original:  Parameter containing:\n",
      "tensor([[-0.4019,  0.8403,  0.6758],\n",
      "        [-0.2973,  0.7963,  0.9084]], requires_grad=True)\n",
      "Updated:  Parameter containing:\n",
      "tensor([[-0.3986,  0.8436,  0.6786],\n",
      "        [-0.2970,  0.7965,  0.9082]], requires_grad=True)\n",
      "Original:  Parameter containing:\n",
      "tensor([[-0.3986,  0.8436,  0.6786],\n",
      "        [-0.2970,  0.7965,  0.9082]], requires_grad=True)\n",
      "Updated:  Parameter containing:\n",
      "tensor([[-0.3908,  0.8510,  0.6833],\n",
      "        [-0.2982,  0.7951,  0.9072]], requires_grad=True)\n",
      "Original:  Parameter containing:\n",
      "tensor([[-0.3908,  0.8510,  0.6833],\n",
      "        [-0.2982,  0.7951,  0.9072]], requires_grad=True)\n",
      "Updated:  Parameter containing:\n",
      "tensor([[-0.3952,  0.8472,  0.6801],\n",
      "        [-0.2988,  0.7945,  0.9069]], requires_grad=True)\n",
      "Original:  Parameter containing:\n",
      "tensor([[-0.3952,  0.8472,  0.6801],\n",
      "        [-0.2988,  0.7945,  0.9069]], requires_grad=True)\n",
      "Updated:  Parameter containing:\n",
      "tensor([[-0.3943,  0.8489,  0.6809],\n",
      "        [-0.2982,  0.7953,  0.9073]], requires_grad=True)\n",
      "Epoch: 0 | Loss: 0.27\n",
      "Original:  Parameter containing:\n",
      "tensor([[-0.3943,  0.8489,  0.6809],\n",
      "        [-0.2982,  0.7953,  0.9073]], requires_grad=True)\n",
      "Updated:  Parameter containing:\n",
      "tensor([[-0.4026,  0.8415,  0.6756],\n",
      "        [-0.2973,  0.7966,  0.9081]], requires_grad=True)\n",
      "Original:  Parameter containing:\n",
      "tensor([[-0.4026,  0.8415,  0.6756],\n",
      "        [-0.2973,  0.7966,  0.9081]], requires_grad=True)\n",
      "Updated:  Parameter containing:\n",
      "tensor([[-0.3993,  0.8446,  0.6783],\n",
      "        [-0.2990,  0.7956,  0.9073]], requires_grad=True)\n",
      "Original:  Parameter containing:\n",
      "tensor([[-0.3993,  0.8446,  0.6783],\n",
      "        [-0.2990,  0.7956,  0.9073]], requires_grad=True)\n",
      "Updated:  Parameter containing:\n",
      "tensor([[-0.3916,  0.8517,  0.6828],\n",
      "        [-0.2992,  0.7961,  0.9074]], requires_grad=True)\n",
      "Original:  Parameter containing:\n",
      "tensor([[-0.3916,  0.8517,  0.6828],\n",
      "        [-0.2992,  0.7961,  0.9074]], requires_grad=True)\n",
      "Updated:  Parameter containing:\n",
      "tensor([[-0.3958,  0.8478,  0.6797],\n",
      "        [-0.2989,  0.7969,  0.9080]], requires_grad=True)\n",
      "Original:  Parameter containing:\n",
      "tensor([[-0.3958,  0.8478,  0.6797],\n",
      "        [-0.2989,  0.7969,  0.9080]], requires_grad=True)\n",
      "Updated:  Parameter containing:\n",
      "tensor([[-0.3945,  0.8495,  0.6806],\n",
      "        [-0.2999,  0.7963,  0.9076]], requires_grad=True)\n",
      "Epoch: 1 | Loss: 0.28\n",
      "Original:  Parameter containing:\n",
      "tensor([[-0.3945,  0.8495,  0.6806],\n",
      "        [-0.2999,  0.7963,  0.9076]], requires_grad=True)\n",
      "Updated:  Parameter containing:\n",
      "tensor([[-0.4028,  0.8419,  0.6753],\n",
      "        [-0.3000,  0.7965,  0.9079]], requires_grad=True)\n",
      "Original:  Parameter containing:\n",
      "tensor([[-0.4028,  0.8419,  0.6753],\n",
      "        [-0.3000,  0.7965,  0.9079]], requires_grad=True)\n",
      "Updated:  Parameter containing:\n",
      "tensor([[-0.3993,  0.8448,  0.6780],\n",
      "        [-0.3007,  0.7961,  0.9078]], requires_grad=True)\n",
      "Original:  Parameter containing:\n",
      "tensor([[-0.3993,  0.8448,  0.6780],\n",
      "        [-0.3007,  0.7961,  0.9078]], requires_grad=True)\n",
      "Updated:  Parameter containing:\n",
      "tensor([[-0.3914,  0.8517,  0.6825],\n",
      "        [-0.2991,  0.7978,  0.9090]], requires_grad=True)\n",
      "Original:  Parameter containing:\n",
      "tensor([[-0.3914,  0.8517,  0.6825],\n",
      "        [-0.2991,  0.7978,  0.9090]], requires_grad=True)\n",
      "Updated:  Parameter containing:\n",
      "tensor([[-0.3955,  0.8477,  0.6794],\n",
      "        [-0.2991,  0.7976,  0.9090]], requires_grad=True)\n",
      "Original:  Parameter containing:\n",
      "tensor([[-0.3955,  0.8477,  0.6794],\n",
      "        [-0.2991,  0.7976,  0.9090]], requires_grad=True)\n",
      "Updated:  Parameter containing:\n",
      "tensor([[-0.3941,  0.8493,  0.6804],\n",
      "        [-0.3012,  0.7949,  0.9075]], requires_grad=True)\n",
      "Epoch: 2 | Loss: 0.31\n",
      "Original:  Parameter containing:\n",
      "tensor([[-0.3941,  0.8493,  0.6804],\n",
      "        [-0.3012,  0.7949,  0.9075]], requires_grad=True)\n",
      "Updated:  Parameter containing:\n",
      "tensor([[-0.4023,  0.8415,  0.6750],\n",
      "        [-0.3003,  0.7957,  0.9082]], requires_grad=True)\n",
      "Original:  Parameter containing:\n",
      "tensor([[-0.4023,  0.8415,  0.6750],\n",
      "        [-0.3003,  0.7957,  0.9082]], requires_grad=True)\n",
      "Updated:  Parameter containing:\n",
      "tensor([[-0.3989,  0.8444,  0.6778],\n",
      "        [-0.2996,  0.7963,  0.9086]], requires_grad=True)\n",
      "Original:  Parameter containing:\n",
      "tensor([[-0.3989,  0.8444,  0.6778],\n",
      "        [-0.2996,  0.7963,  0.9086]], requires_grad=True)\n",
      "Updated:  Parameter containing:\n",
      "tensor([[-0.3909,  0.8513,  0.6823],\n",
      "        [-0.2983,  0.7973,  0.9095]], requires_grad=True)\n",
      "Original:  Parameter containing:\n",
      "tensor([[-0.3909,  0.8513,  0.6823],\n",
      "        [-0.2983,  0.7973,  0.9095]], requires_grad=True)\n",
      "Updated:  Parameter containing:\n",
      "tensor([[-0.3949,  0.8474,  0.6793],\n",
      "        [-0.2991,  0.7962,  0.9089]], requires_grad=True)\n",
      "Original:  Parameter containing:\n",
      "tensor([[-0.3949,  0.8474,  0.6793],\n",
      "        [-0.2991,  0.7962,  0.9089]], requires_grad=True)\n",
      "Updated:  Parameter containing:\n",
      "tensor([[-0.3936,  0.8490,  0.6803],\n",
      "        [-0.3007,  0.7940,  0.9077]], requires_grad=True)\n",
      "Epoch: 3 | Loss: 0.27\n",
      "Original:  Parameter containing:\n",
      "tensor([[-0.3936,  0.8490,  0.6803],\n",
      "        [-0.3007,  0.7940,  0.9077]], requires_grad=True)\n",
      "Updated:  Parameter containing:\n",
      "tensor([[-0.4019,  0.8412,  0.6749],\n",
      "        [-0.2990,  0.7958,  0.9087]], requires_grad=True)\n",
      "Original:  Parameter containing:\n",
      "tensor([[-0.4019,  0.8412,  0.6749],\n",
      "        [-0.2990,  0.7958,  0.9087]], requires_grad=True)\n",
      "Updated:  Parameter containing:\n",
      "tensor([[-0.3987,  0.8440,  0.6777],\n",
      "        [-0.2987,  0.7963,  0.9089]], requires_grad=True)\n",
      "Original:  Parameter containing:\n",
      "tensor([[-0.3987,  0.8440,  0.6777],\n",
      "        [-0.2987,  0.7963,  0.9089]], requires_grad=True)\n",
      "Updated:  Parameter containing:\n",
      "tensor([[-0.3907,  0.8512,  0.6823],\n",
      "        [-0.2987,  0.7964,  0.9091]], requires_grad=True)\n",
      "Original:  Parameter containing:\n",
      "tensor([[-0.3907,  0.8512,  0.6823],\n",
      "        [-0.2987,  0.7964,  0.9091]], requires_grad=True)\n",
      "Updated:  Parameter containing:\n",
      "tensor([[-0.3946,  0.8473,  0.6794],\n",
      "        [-0.2995,  0.7956,  0.9086]], requires_grad=True)\n",
      "Original:  Parameter containing:\n",
      "tensor([[-0.3946,  0.8473,  0.6794],\n",
      "        [-0.2995,  0.7956,  0.9086]], requires_grad=True)\n",
      "Updated:  Parameter containing:\n",
      "tensor([[-0.3936,  0.8489,  0.6803],\n",
      "        [-0.3003,  0.7948,  0.9081]], requires_grad=True)\n",
      "Epoch: 4 | Loss: 0.25\n"
     ]
    }
   ],
   "source": [
    "# ## Putting them together - actually learning!\n",
    "\n",
    "# basically same as linear / logistic regression\n",
    "num_epochs = 5\n",
    "\n",
    "# 1. loop epochs\n",
    "for epoch in range (num_epochs):\n",
    "\n",
    "    # 2. loop the mini batch of samples (DataLoaders are using without-replacement)\n",
    "    for batch_x, batch_y in train_dl:\n",
    "        \n",
    "        # Optional: put your data into GPU using .device() (if you have GPU)\n",
    "        batch_x.to (device)\n",
    "        batch_y.to (device)\n",
    "        \n",
    "        # 2.1 Predict\n",
    "        yhat = some_random_layer(batch_x)\n",
    "        \n",
    "        # 2.2 Calculate loss\n",
    "        loss = criterion (yhat, batch_y)\n",
    "        \n",
    "        # 2.3 Calculate gradients\n",
    "        optimizer .zero_grad() # clear all the gradients\n",
    "        loss.backward() # this will calculate all the gradients inrespect to loss\n",
    "        \n",
    "        # print (some_random_layer.weight.grad)\n",
    "        ## if most of the things are in 1000, your leanring rate should be around 0.0001\n",
    "        \n",
    "        # monitor the weight\n",
    "        print (\"Original: \", some_random_layer.weight)\n",
    "        \n",
    "        # 2.4 Update --> Backpropagate\n",
    "        optimizer.step()\n",
    "        print (\"Updated: \", some_random_layer.weight)\n",
    "\n",
    "    # Print the samary of each epoch\n",
    "    print (f\"Epoch: {epoch} | Loss: {loss:.2f}\")"
   ]
  },
  {
   "cell_type": "code",
   "execution_count": null,
   "metadata": {},
   "outputs": [],
   "source": []
  }
 ],
 "metadata": {
  "kernelspec": {
   "display_name": "Python 3",
   "language": "python",
   "name": "python3"
  },
  "language_info": {
   "codemirror_mode": {
    "name": "ipython",
    "version": 3
   },
   "file_extension": ".py",
   "mimetype": "text/x-python",
   "name": "python",
   "nbconvert_exporter": "python",
   "pygments_lexer": "ipython3",
   "version": "3.11.4"
  }
 },
 "nbformat": 4,
 "nbformat_minor": 2
}
