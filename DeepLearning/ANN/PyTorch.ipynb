{
 "cells": [
  {
   "cell_type": "markdown",
   "metadata": {},
   "source": [
    "# Beginner tutorial on PyTorch an ANN - Articficial Neural Network"
   ]
  },
  {
   "cell_type": "code",
   "execution_count": 2,
   "metadata": {},
   "outputs": [],
   "source": [
    "import torch\n",
    "import numpy as np\n",
    "import sys"
   ]
  },
  {
   "cell_type": "code",
   "execution_count": 3,
   "metadata": {},
   "outputs": [
    {
     "data": {
      "text/plain": [
       "False"
      ]
     },
     "execution_count": 3,
     "metadata": {},
     "output_type": "execute_result"
    }
   ],
   "source": [
    "# deep learning can use CPU or GPU\n",
    "torch.cuda.is_available()"
   ]
  },
  {
   "cell_type": "code",
   "execution_count": 4,
   "metadata": {},
   "outputs": [
    {
     "data": {
      "text/plain": [
       "device(type='cpu')"
      ]
     },
     "execution_count": 4,
     "metadata": {},
     "output_type": "execute_result"
    }
   ],
   "source": [
    "# torch.device('cuda0')\n",
    "device = torch.device('cpu')\n",
    "device"
   ]
  },
  {
   "cell_type": "markdown",
   "metadata": {},
   "source": [
    "## Let's start"
   ]
  },
  {
   "cell_type": "code",
   "execution_count": 5,
   "metadata": {},
   "outputs": [],
   "source": [
    "\n",
    "\n",
    "# <img src = 'japan.png'/>"
   ]
  },
  {
   "cell_type": "code",
   "execution_count": 6,
   "metadata": {},
   "outputs": [
    {
     "data": {
      "text/plain": [
       "'\\nm = 5\\nn = 3 --> temp, rain, humidity\\ny = yield of apples and orange\\n'"
      ]
     },
     "execution_count": 6,
     "metadata": {},
     "output_type": "execute_result"
    }
   ],
   "source": [
    "'''\n",
    "m = 5\n",
    "n = 3 --> temp, rain, humidity\n",
    "y = yield of apples and orange\n",
    "'''"
   ]
  },
  {
   "cell_type": "markdown",
   "metadata": {},
   "source": [
    "## Step 1 . Specify X and y"
   ]
  },
  {
   "cell_type": "code",
   "execution_count": 7,
   "metadata": {},
   "outputs": [],
   "source": [
    "# Input (temp, rainfall, humidity)\n",
    "X_train = np.array([[73, 67, 43], [91, 88, 64], [87, 134, 58], \n",
    "                   [102, 43, 37], [69, 96, 70], [73, 67, 43], \n",
    "                   [91, 88, 64], [87, 134, 58], [102, 43, 37], \n",
    "                   [69, 96, 70], [73, 67, 43], [91, 88, 64], \n",
    "                   [87, 134, 58], [102, 43, 37], [69, 96, 70]], \n",
    "                  dtype='float32')\n",
    "\n",
    "# Targets (apples, oranges)\n",
    "y_train = np.array([[56, 70], [81, 101], [119, 133], \n",
    "                    [22, 37], [103, 119], [56, 70], \n",
    "                    [81, 101], [119, 133], [22, 37], \n",
    "                    [103, 119], [56, 70], [81, 101], \n",
    "                    [119, 133], [22, 37], [103, 119]], \n",
    "                   dtype='float32')"
   ]
  },
  {
   "cell_type": "code",
   "execution_count": 8,
   "metadata": {},
   "outputs": [
    {
     "data": {
      "text/plain": [
       "(torch.Size([15, 3]), torch.Size([15, 2]))"
      ]
     },
     "execution_count": 8,
     "metadata": {},
     "output_type": "execute_result"
    }
   ],
   "source": [
    "# have to convert numpy to torch tesors\n",
    "# torch tensors are simple numpy version of pytorch\n",
    "inputs = torch.from_numpy(X_train)\n",
    "targets = torch.from_numpy(y_train)\n",
    "\n",
    "# torch.Tensor\n",
    "type(inputs), type(targets) \n",
    "'''\n",
    "torch inclued gradient descent for every steps\n",
    "'''\n",
    "\n",
    "inputs.shape, targets.shape\n",
    "inputs.size(), targets.size()"
   ]
  },
  {
   "cell_type": "markdown",
   "metadata": {},
   "source": [
    "## 2. Dataloaders\n",
    "\n",
    "Remember in ML, we have to do the batch learning outselve, like mini-batch, stochastic batch. PyTorch has a class called DataLoaders that automatically do this for you.\n",
    "\n",
    "It's optional whether you wanna use it or just use it - don't reinvent the wheel"
   ]
  },
  {
   "cell_type": "code",
   "execution_count": 9,
   "metadata": {},
   "outputs": [
    {
     "data": {
      "text/plain": [
       "(tensor([73., 67., 43.]), tensor([56., 70.]))"
      ]
     },
     "execution_count": 9,
     "metadata": {},
     "output_type": "execute_result"
    }
   ],
   "source": [
    "# define a dataset so that dataloaders understand\n",
    "from torch.utils.data import TensorDataset\n",
    "\n",
    "train_dataset = TensorDataset (inputs, targets)\n",
    "\n",
    "train_dataset[0]"
   ]
  },
  {
   "cell_type": "code",
   "execution_count": 10,
   "metadata": {},
   "outputs": [],
   "source": [
    "from torch.utils.data import DataLoader\n",
    "\n",
    "batch_size = 3 # for no reason - here i am using  a mini-batch of size 3\n",
    "\n",
    "train_dl = DataLoader (train_dataset, batch_size, shuffle=False) # you should use Shuffle = True"
   ]
  },
  {
   "cell_type": "code",
   "execution_count": 11,
   "metadata": {},
   "outputs": [
    {
     "name": "stdout",
     "output_type": "stream",
     "text": [
      "------new batch--------\n",
      "tensor([[ 73.,  67.,  43.],\n",
      "        [ 91.,  88.,  64.],\n",
      "        [ 87., 134.,  58.]])\n",
      "tensor([[ 56.,  70.],\n",
      "        [ 81., 101.],\n",
      "        [119., 133.]])\n",
      "------new batch--------\n",
      "tensor([[102.,  43.,  37.],\n",
      "        [ 69.,  96.,  70.],\n",
      "        [ 73.,  67.,  43.]])\n",
      "tensor([[ 22.,  37.],\n",
      "        [103., 119.],\n",
      "        [ 56.,  70.]])\n",
      "------new batch--------\n",
      "tensor([[ 91.,  88.,  64.],\n",
      "        [ 87., 134.,  58.],\n",
      "        [102.,  43.,  37.]])\n",
      "tensor([[ 81., 101.],\n",
      "        [119., 133.],\n",
      "        [ 22.,  37.]])\n",
      "------new batch--------\n",
      "tensor([[69., 96., 70.],\n",
      "        [73., 67., 43.],\n",
      "        [91., 88., 64.]])\n",
      "tensor([[103., 119.],\n",
      "        [ 56.,  70.],\n",
      "        [ 81., 101.]])\n",
      "------new batch--------\n",
      "tensor([[ 87., 134.,  58.],\n",
      "        [102.,  43.,  37.],\n",
      "        [ 69.,  96.,  70.]])\n",
      "tensor([[119., 133.],\n",
      "        [ 22.,  37.],\n",
      "        [103., 119.]])\n"
     ]
    }
   ],
   "source": [
    "for x, y in train_dl:\n",
    "    print(\"------new batch--------\")\n",
    "    print(x) # this will give you batch_size of x, e.g. 3 sets of x\n",
    "    print(y) # this will give you batch_size of y, e.g. 3 sets of y"
   ]
  },
  {
   "cell_type": "markdown",
   "metadata": {},
   "source": [
    "## 3. Define some layers\n",
    "\n",
    "don't be confuse about layers. it's simply matrix multiplication. It's true until now."
   ]
  },
  {
   "cell_type": "code",
   "execution_count": 12,
   "metadata": {},
   "outputs": [],
   "source": [
    "import torch.nn as nn  # nn ==> neural networt"
   ]
  },
  {
   "cell_type": "code",
   "execution_count": 13,
   "metadata": {},
   "outputs": [],
   "source": [
    "# define Linear Layer: 3 is the incoming features and 2 is the output feature\n",
    "some_random_layer = nn.Linear(3,2)"
   ]
  },
  {
   "cell_type": "code",
   "execution_count": 14,
   "metadata": {},
   "outputs": [
    {
     "name": "stdout",
     "output_type": "stream",
     "text": [
      "Parameter containing:\n",
      "tensor([[ 0.5153,  0.5054,  0.3009],\n",
      "        [ 0.3160, -0.3148, -0.5201]], requires_grad=True)\n",
      "torch.Size([2, 3])\n",
      "Parameter containing:\n",
      "tensor([ 0.2187, -0.2698], requires_grad=True)\n",
      "torch.Size([2])\n"
     ]
    }
   ],
   "source": [
    "# matrix --> randomly initialize --> using standardization methods\n",
    "print (some_random_layer.weight)\n",
    "print (some_random_layer.weight.shape)\n",
    "print (some_random_layer.bias)\n",
    "print (some_random_layer.bias.shape)"
   ]
  },
  {
   "cell_type": "code",
   "execution_count": 15,
   "metadata": {},
   "outputs": [
    {
     "data": {
      "text/plain": [
       "torch.Size([15, 2])"
      ]
     },
     "execution_count": 15,
     "metadata": {},
     "output_type": "execute_result"
    }
   ],
   "source": [
    "outputs = some_random_layer (inputs) # do matrix multiplication of incoming layer\n",
    "# input = (15,3) @ (3,2) = (15,2)\n",
    "\n",
    "outputs.shape"
   ]
  },
  {
   "cell_type": "code",
   "execution_count": 16,
   "metadata": {},
   "outputs": [],
   "source": [
    "# how do chatgpt count their number of parameters - 175b parameters\n",
    "\n",
    "# count their number of parameters\n",
    "# some_random_layer.parameters()"
   ]
  },
  {
   "cell_type": "code",
   "execution_count": 17,
   "metadata": {},
   "outputs": [
    {
     "name": "stdout",
     "output_type": "stream",
     "text": [
      "Parameter containing:\n",
      "tensor([[ 0.5153,  0.5054,  0.3009],\n",
      "        [ 0.3160, -0.3148, -0.5201]], requires_grad=True)\n",
      "Parameter containing:\n",
      "tensor([ 0.2187, -0.2698], requires_grad=True)\n",
      "total number of parameter= 8\n"
     ]
    }
   ],
   "source": [
    "# count their number of parameters\n",
    "total_num_of_param = 0\n",
    "for param in some_random_layer.parameters():\n",
    "    print (param)\n",
    "    total_num_of_param += param.numel()\n",
    "\n",
    "print (f\"total number of parameter=\", total_num_of_param)"
   ]
  },
  {
   "cell_type": "markdown",
   "metadata": {},
   "source": [
    "## 4. Define loss function"
   ]
  },
  {
   "cell_type": "code",
   "execution_count": 20,
   "metadata": {},
   "outputs": [],
   "source": [
    "# recall that this is a regression problem\n",
    "# so we have to use MSE\n",
    "# you can code it by yourself - or you can use built-in pytorch module\n",
    "\n",
    "criterion = nn.MSELoss()"
   ]
  },
  {
   "cell_type": "code",
   "execution_count": 21,
   "metadata": {},
   "outputs": [
    {
     "data": {
      "text/plain": [
       "tensor([[ 56.,  70.],\n",
       "        [ 81., 101.],\n",
       "        [119., 133.],\n",
       "        [ 22.,  37.],\n",
       "        [103., 119.],\n",
       "        [ 56.,  70.],\n",
       "        [ 81., 101.],\n",
       "        [119., 133.],\n",
       "        [ 22.,  37.],\n",
       "        [103., 119.],\n",
       "        [ 56.,  70.],\n",
       "        [ 81., 101.],\n",
       "        [119., 133.],\n",
       "        [ 22.,  37.],\n",
       "        [103., 119.]])"
      ]
     },
     "execution_count": 21,
     "metadata": {},
     "output_type": "execute_result"
    }
   ],
   "source": [
    "targets"
   ]
  },
  {
   "cell_type": "code",
   "execution_count": 24,
   "metadata": {},
   "outputs": [
    {
     "name": "stdout",
     "output_type": "stream",
     "text": [
      "get mse =  tensor(9202.0371, grad_fn=<MseLossBackward0>)\n",
      "get mse value =  9202.037109375\n"
     ]
    }
   ],
   "source": [
    "mse = criterion (targets, outputs)\n",
    "print (f\"get mse = \",mse)\n",
    "print (f\"get mse value = \", mse.item())"
   ]
  },
  {
   "cell_type": "markdown",
   "metadata": {},
   "source": [
    "## 5. Define our gradient descent algorithm\n",
    "\n",
    "Recall we use the gradient descent algorithm  * w = w - alpha * gradient *\n",
    "In fact, there are more, momentum, Adam --> adaptive learning rate"
   ]
  },
  {
   "cell_type": "code",
   "execution_count": 27,
   "metadata": {},
   "outputs": [],
   "source": [
    "optimizer = torch.optim.SGD(some_random_layer.parameters(), lr = 0.0001, momentum = 0.9)"
   ]
  },
  {
   "cell_type": "markdown",
   "metadata": {},
   "source": [
    "## Putting them together - actually learning!\n",
    "\n",
    "basically same as linear / logistic regression\n",
    "\n",
    "- 1. loop epochs\n",
    "    - 2. loop the mini batch of samples (DataLoaders are using without-replacement)\n",
    "        - Optional: put your data into GPU using .device() (if you have GPU)\n",
    "        - 2.1 Predict\n",
    "        - 2.2 Calculate loss\n",
    "        - 2.3 Calculate gradients\n",
    "        - 2.4 Update --> Backpropagate\n",
    "\n",
    "    Print the samary of each epoch"
   ]
  },
  {
   "cell_type": "code",
   "execution_count": 35,
   "metadata": {},
   "outputs": [
    {
     "name": "stdout",
     "output_type": "stream",
     "text": [
      "tensor([[47.4621, 44.6171, 30.6865],\n",
      "        [49.5513, 71.4958, 32.0365]])\n",
      "tensor([[-125.8283, -102.2576,  -79.2543],\n",
      "        [-278.1838, -231.2429, -170.0679]])\n",
      "tensor([[  30.4383,   58.1957,   31.6395],\n",
      "        [-218.6373, -210.8478, -127.2299]])\n",
      "tensor([[ 92.9879,  83.6744,  57.3129],\n",
      "        [273.6331, 297.6025, 210.4832]])\n",
      "tensor([[-115.5228, -115.3654,  -77.1458],\n",
      "        [ 253.8752,  277.3102,  163.2365]])\n",
      "Epoch: 0 | Loss: 5.46\n",
      "tensor([[ 104.5830,  108.9821,   68.4272],\n",
      "        [-310.5161, -376.2090, -206.8350]])\n",
      "tensor([[ -77.3652,  -71.3099,  -55.7882],\n",
      "        [ -96.9764, -105.1805,  -75.4218]])\n",
      "tensor([[-14.7436,  -6.6017,  -0.4292],\n",
      "        [160.6306, 128.6871,  83.2371]])\n",
      "tensor([[ 62.3513,  48.3315,  32.0203],\n",
      "        [126.4089, 133.6085,  93.7573]])\n",
      "tensor([[ -70.4232,  -81.7761,  -54.1168],\n",
      "        [ -65.7761, -118.9428,  -59.7974]])\n",
      "Epoch: 1 | Loss: 1.48\n",
      "tensor([[ 140.3407,  147.4722,   92.0468],\n",
      "        [-130.5646, -165.2175,  -87.6152]])\n",
      "tensor([[-87.3115, -87.1557, -66.7285],\n",
      "        [135.0037, 101.3186,  74.8408]])\n",
      "tensor([[-79.6359, -83.1748, -41.4740],\n",
      "        [132.1583, 115.5205,  71.1560]])\n",
      "tensor([[ 90.0828,  77.9799,  53.0141],\n",
      "        [-91.0272, -99.1414, -70.9174]])\n",
      "tensor([[  -9.6092,  -16.3432,  -14.8168],\n",
      "        [-125.4980, -144.1007,  -82.3927]])\n",
      "Epoch: 2 | Loss: 1.27\n",
      "tensor([[113.5168, 114.1965,  74.2932],\n",
      "        [ 93.5649, 114.0008,  61.2390]])\n",
      "tensor([[-126.2495, -120.1065,  -90.7787],\n",
      "        [  79.6911,   83.6672,   59.5369]])\n",
      "tensor([[-87.1990, -89.6111, -45.2706],\n",
      "        [-61.0069, -39.2770, -30.3064]])\n",
      "tensor([[133.6983, 126.0843,  87.2338],\n",
      "        [-55.7595, -56.0412, -39.7997]])\n",
      "tensor([[-2.2406, -3.4886, -7.5720],\n",
      "        [-2.2632, 32.0612, 13.4275]])\n",
      "Epoch: 3 | Loss: 0.39\n",
      "tensor([[69.5262, 62.1379, 45.1991],\n",
      "        [44.2624, 60.3799, 28.7251]])\n",
      "tensor([[-135.1080, -124.0368,  -93.9074],\n",
      "        [ -36.8298,  -11.1062,  -10.0885]])\n",
      "tensor([[-48.0596, -44.9411, -20.6273],\n",
      "        [-70.3865, -48.5987, -35.6328]])\n",
      "tensor([[139.7556, 133.4294,  92.5418],\n",
      "        [ 48.5736,  56.3116,  39.7791]])\n",
      "tensor([[-41.6693, -43.8153, -31.4966],\n",
      "        [ 36.1319,  55.6063,  31.0636]])\n",
      "Epoch: 4 | Loss: 0.40\n"
     ]
    }
   ],
   "source": [
    "# ## Putting them together - actually learning!\n",
    "\n",
    "# basically same as linear / logistic regression\n",
    "num_epochs = 5\n",
    "\n",
    "# 1. loop epochs\n",
    "for epoch in range (num_epochs):\n",
    "\n",
    "    # 2. loop the mini batch of samples (DataLoaders are using without-replacement)\n",
    "    for batch_x, batch_y in train_dl:\n",
    "        \n",
    "        # Optional: put your data into GPU using .device() (if you have GPU)\n",
    "        batch_x.to (device)\n",
    "        batch_y.to (device)\n",
    "        \n",
    "        # 2.1 Predict\n",
    "        yhat = some_random_layer(batch_x)\n",
    "        \n",
    "        # 2.2 Calculate loss\n",
    "        loss = criterion (yhat, batch_y)\n",
    "        \n",
    "        # 2.3 Calculate gradients\n",
    "        optimizer .zero_grad() # clear all the gradients\n",
    "        loss.backward() # this will calculate all the gradients inrespect to loss\n",
    "        \n",
    "        print (some_random_layer.weight.grad)\n",
    "        \n",
    "        # 2.4 Update --> Backpropagate\n",
    "        optimizer.step()\n",
    "\n",
    "    # Print the samary of each epoch\n",
    "    print (f\"Epoch: {epoch} | Loss: {loss:.2f}\")"
   ]
  },
  {
   "cell_type": "code",
   "execution_count": null,
   "metadata": {},
   "outputs": [],
   "source": []
  }
 ],
 "metadata": {
  "kernelspec": {
   "display_name": "Python 3",
   "language": "python",
   "name": "python3"
  },
  "language_info": {
   "codemirror_mode": {
    "name": "ipython",
    "version": 3
   },
   "file_extension": ".py",
   "mimetype": "text/x-python",
   "name": "python",
   "nbconvert_exporter": "python",
   "pygments_lexer": "ipython3",
   "version": "3.11.4"
  }
 },
 "nbformat": 4,
 "nbformat_minor": 2
}
