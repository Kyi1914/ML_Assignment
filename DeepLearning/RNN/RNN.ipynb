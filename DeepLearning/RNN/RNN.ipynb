{
 "cells": [
  {
   "cell_type": "markdown",
   "metadata": {},
   "source": [
    "# RNN"
   ]
  },
  {
   "cell_type": "code",
   "execution_count": 53,
   "metadata": {},
   "outputs": [],
   "source": [
    "import torch\n",
    "import torch.nn as nn\n",
    "import numpy as np\n",
    "import pandas as pd\n",
    "import matplotlib.pyplot as plt "
   ]
  },
  {
   "cell_type": "markdown",
   "metadata": {},
   "source": [
    "## 1. Load the data"
   ]
  },
  {
   "cell_type": "code",
   "execution_count": 54,
   "metadata": {},
   "outputs": [],
   "source": [
    "df = pd.read_csv ('data/appl_1980_2014.csv')"
   ]
  },
  {
   "cell_type": "code",
   "execution_count": 55,
   "metadata": {},
   "outputs": [
    {
     "data": {
      "text/html": [
       "<div>\n",
       "<style scoped>\n",
       "    .dataframe tbody tr th:only-of-type {\n",
       "        vertical-align: middle;\n",
       "    }\n",
       "\n",
       "    .dataframe tbody tr th {\n",
       "        vertical-align: top;\n",
       "    }\n",
       "\n",
       "    .dataframe thead th {\n",
       "        text-align: right;\n",
       "    }\n",
       "</style>\n",
       "<table border=\"1\" class=\"dataframe\">\n",
       "  <thead>\n",
       "    <tr style=\"text-align: right;\">\n",
       "      <th></th>\n",
       "      <th>Date</th>\n",
       "      <th>Open</th>\n",
       "      <th>High</th>\n",
       "      <th>Low</th>\n",
       "      <th>Close</th>\n",
       "      <th>Volume</th>\n",
       "      <th>Adj Close</th>\n",
       "    </tr>\n",
       "  </thead>\n",
       "  <tbody>\n",
       "    <tr>\n",
       "      <th>0</th>\n",
       "      <td>2014-07-08</td>\n",
       "      <td>96.27</td>\n",
       "      <td>96.80</td>\n",
       "      <td>93.92</td>\n",
       "      <td>95.35</td>\n",
       "      <td>65130000</td>\n",
       "      <td>95.35</td>\n",
       "    </tr>\n",
       "    <tr>\n",
       "      <th>1</th>\n",
       "      <td>2014-07-07</td>\n",
       "      <td>94.14</td>\n",
       "      <td>95.99</td>\n",
       "      <td>94.10</td>\n",
       "      <td>95.97</td>\n",
       "      <td>56305400</td>\n",
       "      <td>95.97</td>\n",
       "    </tr>\n",
       "    <tr>\n",
       "      <th>2</th>\n",
       "      <td>2014-07-03</td>\n",
       "      <td>93.67</td>\n",
       "      <td>94.10</td>\n",
       "      <td>93.20</td>\n",
       "      <td>94.03</td>\n",
       "      <td>22891800</td>\n",
       "      <td>94.03</td>\n",
       "    </tr>\n",
       "    <tr>\n",
       "      <th>3</th>\n",
       "      <td>2014-07-02</td>\n",
       "      <td>93.87</td>\n",
       "      <td>94.06</td>\n",
       "      <td>93.09</td>\n",
       "      <td>93.48</td>\n",
       "      <td>28420900</td>\n",
       "      <td>93.48</td>\n",
       "    </tr>\n",
       "    <tr>\n",
       "      <th>4</th>\n",
       "      <td>2014-07-01</td>\n",
       "      <td>93.52</td>\n",
       "      <td>94.07</td>\n",
       "      <td>93.13</td>\n",
       "      <td>93.52</td>\n",
       "      <td>38170200</td>\n",
       "      <td>93.52</td>\n",
       "    </tr>\n",
       "    <tr>\n",
       "      <th>5</th>\n",
       "      <td>2014-06-30</td>\n",
       "      <td>92.10</td>\n",
       "      <td>93.73</td>\n",
       "      <td>92.09</td>\n",
       "      <td>92.93</td>\n",
       "      <td>49482300</td>\n",
       "      <td>92.93</td>\n",
       "    </tr>\n",
       "    <tr>\n",
       "      <th>6</th>\n",
       "      <td>2014-06-27</td>\n",
       "      <td>90.82</td>\n",
       "      <td>92.00</td>\n",
       "      <td>90.77</td>\n",
       "      <td>91.98</td>\n",
       "      <td>64006800</td>\n",
       "      <td>91.98</td>\n",
       "    </tr>\n",
       "    <tr>\n",
       "      <th>7</th>\n",
       "      <td>2014-06-26</td>\n",
       "      <td>90.37</td>\n",
       "      <td>91.05</td>\n",
       "      <td>89.80</td>\n",
       "      <td>90.90</td>\n",
       "      <td>32595800</td>\n",
       "      <td>90.90</td>\n",
       "    </tr>\n",
       "    <tr>\n",
       "      <th>8</th>\n",
       "      <td>2014-06-25</td>\n",
       "      <td>90.21</td>\n",
       "      <td>90.70</td>\n",
       "      <td>89.65</td>\n",
       "      <td>90.36</td>\n",
       "      <td>36852200</td>\n",
       "      <td>90.36</td>\n",
       "    </tr>\n",
       "    <tr>\n",
       "      <th>9</th>\n",
       "      <td>2014-06-24</td>\n",
       "      <td>90.75</td>\n",
       "      <td>91.74</td>\n",
       "      <td>90.19</td>\n",
       "      <td>90.28</td>\n",
       "      <td>38988300</td>\n",
       "      <td>90.28</td>\n",
       "    </tr>\n",
       "  </tbody>\n",
       "</table>\n",
       "</div>"
      ],
      "text/plain": [
       "         Date   Open   High    Low  Close    Volume  Adj Close\n",
       "0  2014-07-08  96.27  96.80  93.92  95.35  65130000      95.35\n",
       "1  2014-07-07  94.14  95.99  94.10  95.97  56305400      95.97\n",
       "2  2014-07-03  93.67  94.10  93.20  94.03  22891800      94.03\n",
       "3  2014-07-02  93.87  94.06  93.09  93.48  28420900      93.48\n",
       "4  2014-07-01  93.52  94.07  93.13  93.52  38170200      93.52\n",
       "5  2014-06-30  92.10  93.73  92.09  92.93  49482300      92.93\n",
       "6  2014-06-27  90.82  92.00  90.77  91.98  64006800      91.98\n",
       "7  2014-06-26  90.37  91.05  89.80  90.90  32595800      90.90\n",
       "8  2014-06-25  90.21  90.70  89.65  90.36  36852200      90.36\n",
       "9  2014-06-24  90.75  91.74  90.19  90.28  38988300      90.28"
      ]
     },
     "execution_count": 55,
     "metadata": {},
     "output_type": "execute_result"
    }
   ],
   "source": [
    "df.head(10)"
   ]
  },
  {
   "cell_type": "code",
   "execution_count": 56,
   "metadata": {},
   "outputs": [
    {
     "name": "stdout",
     "output_type": "stream",
     "text": [
      "<class 'pandas.core.frame.DataFrame'>\n",
      "RangeIndex: 8465 entries, 0 to 8464\n",
      "Data columns (total 7 columns):\n",
      " #   Column     Non-Null Count  Dtype  \n",
      "---  ------     --------------  -----  \n",
      " 0   Date       8465 non-null   object \n",
      " 1   Open       8465 non-null   float64\n",
      " 2   High       8465 non-null   float64\n",
      " 3   Low        8465 non-null   float64\n",
      " 4   Close      8465 non-null   float64\n",
      " 5   Volume     8465 non-null   int64  \n",
      " 6   Adj Close  8465 non-null   float64\n",
      "dtypes: float64(5), int64(1), object(1)\n",
      "memory usage: 463.1+ KB\n"
     ]
    }
   ],
   "source": [
    "# make sure your data is of actually date format\n",
    "df.info()"
   ]
  },
  {
   "cell_type": "code",
   "execution_count": 57,
   "metadata": {},
   "outputs": [],
   "source": [
    "# date is string format, change to date format\n",
    "df.Date = pd.to_datetime(df.Date)"
   ]
  },
  {
   "cell_type": "code",
   "execution_count": 58,
   "metadata": {},
   "outputs": [
    {
     "name": "stdout",
     "output_type": "stream",
     "text": [
      "<class 'pandas.core.frame.DataFrame'>\n",
      "RangeIndex: 8465 entries, 0 to 8464\n",
      "Data columns (total 7 columns):\n",
      " #   Column     Non-Null Count  Dtype         \n",
      "---  ------     --------------  -----         \n",
      " 0   Date       8465 non-null   datetime64[ns]\n",
      " 1   Open       8465 non-null   float64       \n",
      " 2   High       8465 non-null   float64       \n",
      " 3   Low        8465 non-null   float64       \n",
      " 4   Close      8465 non-null   float64       \n",
      " 5   Volume     8465 non-null   int64         \n",
      " 6   Adj Close  8465 non-null   float64       \n",
      "dtypes: datetime64[ns](1), float64(5), int64(1)\n",
      "memory usage: 463.1 KB\n"
     ]
    }
   ],
   "source": [
    "df.info()"
   ]
  },
  {
   "cell_type": "markdown",
   "metadata": {},
   "source": [
    "### Choose the time frame"
   ]
  },
  {
   "cell_type": "code",
   "execution_count": 59,
   "metadata": {},
   "outputs": [
    {
     "data": {
      "text/plain": [
       "array([2014, 2013, 2012, 2011, 2010, 2009, 2008, 2007, 2006, 2005, 2004,\n",
       "       2003, 2002, 2001, 2000, 1999, 1998, 1997, 1996, 1995, 1994, 1993,\n",
       "       1992, 1991, 1990, 1989, 1988, 1987, 1986, 1985, 1984, 1983, 1982,\n",
       "       1981, 1980])"
      ]
     },
     "execution_count": 59,
     "metadata": {},
     "output_type": "execute_result"
    }
   ],
   "source": [
    "# get the unique year \n",
    "df.Date.dt.year.unique()"
   ]
  },
  {
   "cell_type": "code",
   "execution_count": 60,
   "metadata": {},
   "outputs": [
    {
     "data": {
      "text/plain": [
       "array([2013, 2012, 2011, 2010])"
      ]
     },
     "execution_count": 60,
     "metadata": {},
     "output_type": "execute_result"
    }
   ],
   "source": [
    "# get the year between 2009 and 2014\n",
    "cond = (df.Date.dt.year > 2009) & (df.Date.dt.year < 2014)\n",
    "df = df[cond]\n",
    "df.Date.dt.year.unique()"
   ]
  },
  {
   "cell_type": "markdown",
   "metadata": {},
   "source": [
    "### Set date as index"
   ]
  },
  {
   "cell_type": "code",
   "execution_count": 61,
   "metadata": {},
   "outputs": [
    {
     "data": {
      "text/plain": [
       "Int64Index([ 129,  130,  131,  132,  133,  134,  135,  136,  137,  138,\n",
       "            ...\n",
       "            1125, 1126, 1127, 1128, 1129, 1130, 1131, 1132, 1133, 1134],\n",
       "           dtype='int64', length=1006)"
      ]
     },
     "execution_count": 61,
     "metadata": {},
     "output_type": "execute_result"
    }
   ],
   "source": [
    "df.index"
   ]
  },
  {
   "cell_type": "markdown",
   "metadata": {},
   "source": [
    "now index is interger seires. For timeseries, index should be DateTime."
   ]
  },
  {
   "cell_type": "code",
   "execution_count": 62,
   "metadata": {},
   "outputs": [
    {
     "data": {
      "text/plain": [
       "DatetimeIndex(['2013-12-31', '2013-12-30', '2013-12-27', '2013-12-26',\n",
       "               '2013-12-24', '2013-12-23', '2013-12-20', '2013-12-19',\n",
       "               '2013-12-18', '2013-12-17',\n",
       "               ...\n",
       "               '2010-01-15', '2010-01-14', '2010-01-13', '2010-01-12',\n",
       "               '2010-01-11', '2010-01-08', '2010-01-07', '2010-01-06',\n",
       "               '2010-01-05', '2010-01-04'],\n",
       "              dtype='datetime64[ns]', name='Date', length=1006, freq=None)"
      ]
     },
     "execution_count": 62,
     "metadata": {},
     "output_type": "execute_result"
    }
   ],
   "source": [
    "# change the index to DateTime\n",
    "df = df.set_index('Date')\n",
    "df.index"
   ]
  },
  {
   "cell_type": "code",
   "execution_count": 63,
   "metadata": {},
   "outputs": [
    {
     "data": {
      "text/html": [
       "<div>\n",
       "<style scoped>\n",
       "    .dataframe tbody tr th:only-of-type {\n",
       "        vertical-align: middle;\n",
       "    }\n",
       "\n",
       "    .dataframe tbody tr th {\n",
       "        vertical-align: top;\n",
       "    }\n",
       "\n",
       "    .dataframe thead th {\n",
       "        text-align: right;\n",
       "    }\n",
       "</style>\n",
       "<table border=\"1\" class=\"dataframe\">\n",
       "  <thead>\n",
       "    <tr style=\"text-align: right;\">\n",
       "      <th></th>\n",
       "      <th>Open</th>\n",
       "      <th>High</th>\n",
       "      <th>Low</th>\n",
       "      <th>Close</th>\n",
       "      <th>Volume</th>\n",
       "      <th>Adj Close</th>\n",
       "    </tr>\n",
       "    <tr>\n",
       "      <th>Date</th>\n",
       "      <th></th>\n",
       "      <th></th>\n",
       "      <th></th>\n",
       "      <th></th>\n",
       "      <th></th>\n",
       "      <th></th>\n",
       "    </tr>\n",
       "  </thead>\n",
       "  <tbody>\n",
       "    <tr>\n",
       "      <th>2013-12-31</th>\n",
       "      <td>554.17</td>\n",
       "      <td>561.28</td>\n",
       "      <td>554.00</td>\n",
       "      <td>561.02</td>\n",
       "      <td>55771100</td>\n",
       "      <td>79.23</td>\n",
       "    </tr>\n",
       "    <tr>\n",
       "      <th>2013-12-30</th>\n",
       "      <td>557.46</td>\n",
       "      <td>560.09</td>\n",
       "      <td>552.32</td>\n",
       "      <td>554.52</td>\n",
       "      <td>63407400</td>\n",
       "      <td>78.31</td>\n",
       "    </tr>\n",
       "    <tr>\n",
       "      <th>2013-12-27</th>\n",
       "      <td>563.82</td>\n",
       "      <td>564.41</td>\n",
       "      <td>559.50</td>\n",
       "      <td>560.09</td>\n",
       "      <td>56471100</td>\n",
       "      <td>79.10</td>\n",
       "    </tr>\n",
       "    <tr>\n",
       "      <th>2013-12-26</th>\n",
       "      <td>568.10</td>\n",
       "      <td>569.50</td>\n",
       "      <td>563.38</td>\n",
       "      <td>563.90</td>\n",
       "      <td>51002000</td>\n",
       "      <td>79.63</td>\n",
       "    </tr>\n",
       "    <tr>\n",
       "      <th>2013-12-24</th>\n",
       "      <td>569.89</td>\n",
       "      <td>571.88</td>\n",
       "      <td>566.03</td>\n",
       "      <td>567.67</td>\n",
       "      <td>41888700</td>\n",
       "      <td>80.17</td>\n",
       "    </tr>\n",
       "  </tbody>\n",
       "</table>\n",
       "</div>"
      ],
      "text/plain": [
       "              Open    High     Low   Close    Volume  Adj Close\n",
       "Date                                                           \n",
       "2013-12-31  554.17  561.28  554.00  561.02  55771100      79.23\n",
       "2013-12-30  557.46  560.09  552.32  554.52  63407400      78.31\n",
       "2013-12-27  563.82  564.41  559.50  560.09  56471100      79.10\n",
       "2013-12-26  568.10  569.50  563.38  563.90  51002000      79.63\n",
       "2013-12-24  569.89  571.88  566.03  567.67  41888700      80.17"
      ]
     },
     "execution_count": 63,
     "metadata": {},
     "output_type": "execute_result"
    }
   ],
   "source": [
    "df.head()"
   ]
  },
  {
   "cell_type": "markdown",
   "metadata": {},
   "source": [
    "## 2. EDA"
   ]
  },
  {
   "cell_type": "code",
   "execution_count": 64,
   "metadata": {},
   "outputs": [
    {
     "data": {
      "image/png": "[encoded data removed]",
      "text/plain": [
       "<Figure size 1200x400 with 1 Axes>"
      ]
     },
     "metadata": {},
     "output_type": "display_data"
    }
   ],
   "source": [
    "# plot the apple stocks\n",
    "plt.figure (figsize=(12,4))\n",
    "plt.plot(df.Close)\n",
    "plt.title(\"Apple Stock Prices (2010-2013)\")\n",
    "plt.grid()\n",
    "plt.show()"
   ]
  },
  {
   "cell_type": "markdown",
   "metadata": {},
   "source": [
    "<!-- ## 3. Window size features\n",
    "\n",
    "- use all the past data, to predict the next 1 day\n",
    "- input is everything until now..\n",
    "- output is next 15 days -->\n",
    "## 3. Train Test split"
   ]
  },
  {
   "cell_type": "code",
   "execution_count": 65,
   "metadata": {},
   "outputs": [],
   "source": [
    "y = df['Close'].values.astype('float')\n",
    "\n",
    "# take 15 days\n",
    "train_set = y[:-15]\n",
    "\n",
    "test_set = y[-15:]"
   ]
  },
  {
   "cell_type": "code",
   "execution_count": 66,
   "metadata": {},
   "outputs": [
    {
     "name": "stdout",
     "output_type": "stream",
     "text": [
      "<class 'numpy.ndarray'>\n"
     ]
    }
   ],
   "source": [
    "print(type(train_set))"
   ]
  },
  {
   "cell_type": "markdown",
   "metadata": {},
   "source": [
    "## 4. Normalization\n",
    "\n",
    "Here we don't do standardization because mean is wrong. \n",
    "Normalization - 0 to 1."
   ]
  },
  {
   "cell_type": "code",
   "execution_count": 67,
   "metadata": {},
   "outputs": [
    {
     "data": {
      "text/plain": [
       "(991,)"
      ]
     },
     "execution_count": 67,
     "metadata": {},
     "output_type": "execute_result"
    }
   ],
   "source": [
    "train_set.shape"
   ]
  },
  {
   "cell_type": "code",
   "execution_count": 68,
   "metadata": {},
   "outputs": [],
   "source": [
    "from sklearn.preprocessing import MinMaxScaler\n",
    "\n",
    "scaler = MinMaxScaler(feature_range=(-1,1))\n",
    "\n",
    "train_set_norm = scaler.fit_transform(train_set.reshape(-1,1))"
   ]
  },
  {
   "cell_type": "code",
   "execution_count": 69,
   "metadata": {},
   "outputs": [
    {
     "data": {
      "text/plain": [
       "(-0.9999999999999999, 1.0)"
      ]
     },
     "execution_count": 69,
     "metadata": {},
     "output_type": "execute_result"
    }
   ],
   "source": [
    "train_set_norm.min(), train_set_norm.max()"
   ]
  },
  {
   "cell_type": "code",
   "execution_count": 70,
   "metadata": {},
   "outputs": [
    {
     "data": {
      "text/plain": [
       "(991,)"
      ]
     },
     "execution_count": 70,
     "metadata": {},
     "output_type": "execute_result"
    }
   ],
   "source": [
    "train_set.shape"
   ]
  },
  {
   "cell_type": "markdown",
   "metadata": {},
   "source": [
    "## 5. Prepare the train set"
   ]
  },
  {
   "cell_type": "code",
   "execution_count": 71,
   "metadata": {},
   "outputs": [
    {
     "data": {
      "text/plain": [
       "991"
      ]
     },
     "execution_count": 71,
     "metadata": {},
     "output_type": "execute_result"
    }
   ],
   "source": [
    "train_set_norm.shape[0]"
   ]
  },
  {
   "cell_type": "code",
   "execution_count": 72,
   "metadata": {},
   "outputs": [],
   "source": [
    "# convert numpy to tensor\n",
    "train_set_norm = torch.FloatTensor(train_set_norm).view(-1)\n",
    "train_set_norm.shape\n",
    "\n",
    "# define the window size\n",
    "ws = 30 # use 30 days in the past to predict the next day\n",
    "\n",
    "# define the function to create training set (ws days -> 1 day)\n",
    "def create_data(train, ws):\n",
    "    \n",
    "    # array to hold the data\n",
    "    data = []\n",
    "    \n",
    "    # i runs from 0 to (991-30)\n",
    "    for i in range(train.shape[0]-ws):\n",
    "        \n",
    "        # x = train[i: i+ws] # 30 days in the past\n",
    "        x = train[i : i+ws]\n",
    "        \n",
    "        # y = train[i+ws: i+ws+1] # next day\n",
    "        y = train[i+ws : i+ws+1]\n",
    "        \n",
    "        data.append((x,y))\n",
    "        \n",
    "    return data\n",
    "        \n",
    "chaky_data = create_data(train_set_norm, ws)"
   ]
  },
  {
   "cell_type": "code",
   "execution_count": 73,
   "metadata": {},
   "outputs": [
    {
     "data": {
      "text/plain": [
       "(tensor([0.4468, 0.4213, 0.4432, 0.4581, 0.4729, 0.4824, 0.3997, 0.3819, 0.4066,\n",
       "         0.4232, 0.4330, 0.4210, 0.4449, 0.4481, 0.4646, 0.4680, 0.4429, 0.4738,\n",
       "         0.4624, 0.4676, 0.4084, 0.4274, 0.3877, 0.3385, 0.3006, 0.2852, 0.2904,\n",
       "         0.2663, 0.2842, 0.2806]),\n",
       " tensor([0.3055]))"
      ]
     },
     "execution_count": 73,
     "metadata": {},
     "output_type": "execute_result"
    }
   ],
   "source": [
    "chaky_data[0]"
   ]
  },
  {
   "cell_type": "markdown",
   "metadata": {},
   "source": [
    "## 6. Neural Netork\n",
    "\n",
    "A variant of RNN called LSTM, which is much more powerful."
   ]
  },
  {
   "cell_type": "markdown",
   "metadata": {},
   "source": [
    "#### Example"
   ]
  },
  {
   "cell_type": "code",
   "execution_count": 74,
   "metadata": {},
   "outputs": [
    {
     "data": {
      "text/plain": [
       "tensor([0.4468, 0.4213, 0.4432, 0.4581, 0.4729, 0.4824, 0.3997, 0.3819, 0.4066,\n",
       "        0.4232, 0.4330, 0.4210, 0.4449, 0.4481, 0.4646, 0.4680, 0.4429, 0.4738,\n",
       "        0.4624, 0.4676, 0.4084, 0.4274, 0.3877, 0.3385, 0.3006, 0.2852, 0.2904,\n",
       "        0.2663, 0.2842, 0.2806])"
      ]
     },
     "execution_count": 74,
     "metadata": {},
     "output_type": "execute_result"
    }
   ],
   "source": [
    "sample, target = chaky_data[0]\n",
    "sample"
   ]
  },
  {
   "cell_type": "code",
   "execution_count": 75,
   "metadata": {},
   "outputs": [
    {
     "data": {
      "text/plain": [
       "torch.Size([30, 1, 1])"
      ]
     },
     "execution_count": 75,
     "metadata": {},
     "output_type": "execute_result"
    }
   ],
   "source": [
    "sample.reshape(len(sample), 1, -1).shape"
   ]
  },
  {
   "cell_type": "code",
   "execution_count": 76,
   "metadata": {},
   "outputs": [],
   "source": [
    "sample_reshape = sample.reshape(sample.shape[0], 1, -1)"
   ]
  },
  {
   "cell_type": "code",
   "execution_count": 77,
   "metadata": {},
   "outputs": [],
   "source": [
    "lstm = nn.LSTM(1,50) # set hidden size = 50"
   ]
  },
  {
   "cell_type": "code",
   "execution_count": 78,
   "metadata": {},
   "outputs": [
    {
     "data": {
      "text/plain": [
       "tensor([[-0.0619, -0.0558,  0.0091,  0.0004, -0.0607, -0.0010, -0.0347, -0.0223,\n",
       "         -0.0204,  0.0026,  0.0095, -0.0133, -0.0071, -0.0129, -0.0070, -0.0065,\n",
       "         -0.0168, -0.0418,  0.0173,  0.0085, -0.0223,  0.0458,  0.0135,  0.0184,\n",
       "         -0.0139,  0.0126, -0.0387, -0.0200, -0.0136,  0.0169,  0.0002, -0.0308,\n",
       "          0.0217,  0.0212, -0.0139,  0.0277, -0.0026,  0.0039,  0.0566,  0.0203,\n",
       "         -0.0208, -0.0216, -0.0200, -0.0334, -0.0282, -0.0587, -0.0132,  0.0466,\n",
       "         -0.0288, -0.0189]], grad_fn=<SelectBackward0>)"
      ]
     },
     "execution_count": 78,
     "metadata": {},
     "output_type": "execute_result"
    }
   ],
   "source": [
    "out, hidden = lstm(sample_reshape)\n",
    "out[0]"
   ]
  },
  {
   "cell_type": "code",
   "execution_count": 79,
   "metadata": {},
   "outputs": [],
   "source": [
    "# hidden[0]"
   ]
  },
  {
   "cell_type": "code",
   "execution_count": 80,
   "metadata": {},
   "outputs": [
    {
     "data": {
      "text/plain": [
       "torch.Size([30, 1, 50])"
      ]
     },
     "execution_count": 80,
     "metadata": {},
     "output_type": "execute_result"
    }
   ],
   "source": [
    "out.shape # 30 samples, each sampel has 50 hidden layer"
   ]
  },
  {
   "cell_type": "code",
   "execution_count": 81,
   "metadata": {},
   "outputs": [
    {
     "data": {
      "text/plain": [
       "torch.Size([1, 1, 50])"
      ]
     },
     "execution_count": 81,
     "metadata": {},
     "output_type": "execute_result"
    }
   ],
   "source": [
    "hidden[0].shape # hidden layer size for each sample"
   ]
  },
  {
   "cell_type": "code",
   "execution_count": 82,
   "metadata": {},
   "outputs": [],
   "source": [
    "# assert out[-1] == hidden[0]"
   ]
  },
  {
   "cell_type": "code",
   "execution_count": 83,
   "metadata": {},
   "outputs": [
    {
     "data": {
      "text/plain": [
       "torch.Size([30, 50])"
      ]
     },
     "execution_count": 83,
     "metadata": {},
     "output_type": "execute_result"
    }
   ],
   "source": [
    "out = out.view(len(out), -1)\n",
    "out.shape"
   ]
  },
  {
   "cell_type": "code",
   "execution_count": 84,
   "metadata": {},
   "outputs": [],
   "source": [
    "linear_layer = nn.Linear(50,1)"
   ]
  },
  {
   "cell_type": "code",
   "execution_count": 85,
   "metadata": {},
   "outputs": [
    {
     "data": {
      "text/plain": [
       "torch.Size([30, 1])"
      ]
     },
     "execution_count": 85,
     "metadata": {},
     "output_type": "execute_result"
    }
   ],
   "source": [
    "out = linear_layer(out)\n",
    "out.shape"
   ]
  },
  {
   "cell_type": "markdown",
   "metadata": {},
   "source": [
    "#### Network"
   ]
  },
  {
   "cell_type": "code",
   "execution_count": 86,
   "metadata": {},
   "outputs": [],
   "source": [
    "class chaky_RNN (nn.Module):\n",
    "    def __init__(self, input_size = 1, hidden_size = 50,output_size = 1):\n",
    "        super().__init__()\n",
    "        self.hs     = hidden_size\n",
    "        self.lstm   = nn.LSTM(input_size, hidden_size) # LSTM will automatically create W(s) for us\n",
    "        self.linear = nn.Linear(hidden_size, output_size) # take output of LSTM, project to predict\n",
    "\n",
    "    def forward(self, input_):\n",
    "        out, _ = self.lstm(input_.reshape(input_.shape[0], 1, -1)) # 30, 1, 1\n",
    "        out    = self.linear (out.view(len(input_), -1)) # change shape = 30, 50\n",
    "        return out[-1]\n",
    "    "
   ]
  },
  {
   "cell_type": "code",
   "execution_count": 87,
   "metadata": {},
   "outputs": [],
   "source": [
    "torch.manual_seed(999)\n",
    "model = chaky_RNN()\n",
    "\n",
    "criterion = nn.MSELoss() # MSE Loss as we predict the number\n",
    "optimizer = torch.optim.Adam(model.parameters(), lr = 0.001)"
   ]
  },
  {
   "cell_type": "markdown",
   "metadata": {},
   "source": [
    "## 7. Training"
   ]
  },
  {
   "cell_type": "code",
   "execution_count": 117,
   "metadata": {},
   "outputs": [
    {
     "name": "stdout",
     "output_type": "stream",
     "text": [
      "last loss: 0.0006643145461566746\n"
     ]
    }
   ],
   "source": [
    "num_epoch = 500\n",
    "\n",
    "# loop epochs\n",
    "for i in range(num_epoch):\n",
    "\n",
    "    # loop each batch\n",
    "    for x,y in chaky_data:\n",
    "        \n",
    "        # predict\n",
    "        y_hat = model(x)\n",
    "        \n",
    "        # loss\n",
    "        loss = criterion (y_hat, y)\n",
    "        # print (loss.item())\n",
    "        \n",
    "        # gradient\n",
    "        optimizer.zero_grad()\n",
    "        loss.backward()\n",
    "        \n",
    "        # update w\n",
    "        optimizer.step()\n",
    "        \n",
    "        # print (loss.item())\n",
    "        \n",
    "print(f\"last loss:\", loss.item())\n",
    "        "
   ]
  },
  {
   "cell_type": "markdown",
   "metadata": {},
   "source": [
    "## 8. Testing"
   ]
  },
  {
   "cell_type": "code",
   "execution_count": 118,
   "metadata": {},
   "outputs": [],
   "source": [
    "preds = train_set_norm[-ws:].tolist() #-ws : last 30 days in the dataset\n",
    "# preds\n",
    "\n",
    "model.eval()\n",
    "\n",
    "for i in range(ws):\n",
    "    seq = torch.FloatTensor(preds[-ws:]) # the reason is because we deep appending on this\n",
    "    with torch.no_grad():\n",
    "        yhat = model(seq)\n",
    "        preds.append(yhat.item()) # append the predicted data to the last"
   ]
  },
  {
   "cell_type": "code",
   "execution_count": 119,
   "metadata": {},
   "outputs": [
    {
     "data": {
      "text/plain": [
       "[-0.966708242893219,\n",
       " -0.9701442718505859,\n",
       " -0.9712823629379272,\n",
       " -0.8302826881408691,\n",
       " -0.9413163065910339,\n",
       " -0.922483503818512,\n",
       " -0.9061025381088257,\n",
       " -0.7912874221801758,\n",
       " -0.773330807685852,\n",
       " -0.7578849196434021,\n",
       " -0.7574087381362915,\n",
       " -0.7846384048461914,\n",
       " -0.7366517782211304,\n",
       " -0.7140101194381714,\n",
       " -0.9566143751144409,\n",
       " -0.7413880825042725,\n",
       " -0.9146578311920166,\n",
       " -0.7721582651138306,\n",
       " -0.5898064970970154,\n",
       " -0.5076971054077148,\n",
       " -0.6820340156555176,\n",
       " -0.5543947219848633,\n",
       " -0.5129327774047852,\n",
       " -0.5589122772216797,\n",
       " -0.6809160709381104,\n",
       " -0.7949457764625549,\n",
       " -0.5183621048927307,\n",
       " -0.8998454213142395,\n",
       " -0.6736674308776855,\n",
       " -0.9360629916191101]"
      ]
     },
     "execution_count": 119,
     "metadata": {},
     "output_type": "execute_result"
    }
   ],
   "source": [
    "preds[-ws:] # if i trained this 5000 epochs, the number will look nice."
   ]
  },
  {
   "cell_type": "markdown",
   "metadata": {},
   "source": [
    "## 9. Plotting"
   ]
  },
  {
   "cell_type": "code",
   "execution_count": 120,
   "metadata": {},
   "outputs": [
    {
     "data": {
      "text/plain": [
       "list"
      ]
     },
     "execution_count": 120,
     "metadata": {},
     "output_type": "execute_result"
    }
   ],
   "source": [
    "type(preds[-ws:])"
   ]
  },
  {
   "cell_type": "code",
   "execution_count": 121,
   "metadata": {},
   "outputs": [
    {
     "data": {
      "text/plain": [
       "(30, 1)"
      ]
     },
     "execution_count": 121,
     "metadata": {},
     "output_type": "execute_result"
    }
   ],
   "source": [
    "np.array(preds[-ws:]).reshape(-1,1).shape"
   ]
  },
  {
   "cell_type": "code",
   "execution_count": 122,
   "metadata": {},
   "outputs": [],
   "source": [
    "# 1. inverse the normalization\n",
    "true_numbers = scaler.inverse_transform(np.array(preds[-ws:]).reshape(-1,1))"
   ]
  },
  {
   "cell_type": "code",
   "execution_count": 123,
   "metadata": {},
   "outputs": [],
   "source": [
    "# 2. plot\n",
    "x = df['Close'][:ws].index\n",
    "# [:ws]"
   ]
  },
  {
   "cell_type": "code",
   "execution_count": 124,
   "metadata": {},
   "outputs": [
    {
     "data": {
      "image/png": "[encoded data removed]",
      "text/plain": [
       "<Figure size 1200x400 with 1 Axes>"
      ]
     },
     "metadata": {},
     "output_type": "display_data"
    }
   ],
   "source": [
    "plt.figure(figsize=(12,4))\n",
    "plt.grid()\n",
    "plt.plot(df['Close']) # historical data\n",
    "plt.plot(x, true_numbers)\n",
    "plt.show()"
   ]
  },
  {
   "cell_type": "code",
   "execution_count": null,
   "metadata": {},
   "outputs": [],
   "source": []
  }
 ],
 "metadata": {
  "kernelspec": {
   "display_name": "Python 3",
   "language": "python",
   "name": "python3"
  },
  "language_info": {
   "codemirror_mode": {
    "name": "ipython",
    "version": 3
   },
   "file_extension": ".py",
   "mimetype": "text/x-python",
   "name": "python",
   "nbconvert_exporter": "python",
   "pygments_lexer": "ipython3",
   "version": "3.11.4"
  }
 },
 "nbformat": 4,
 "nbformat_minor": 2
}
