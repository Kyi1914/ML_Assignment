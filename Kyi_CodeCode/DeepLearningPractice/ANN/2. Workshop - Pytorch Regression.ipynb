{
 "cells": [
  {
   "cell_type": "markdown",
   "metadata": {},
   "source": [
    "# Diabetes"
   ]
  },
  {
   "cell_type": "code",
   "execution_count": 1,
   "metadata": {},
   "outputs": [],
   "source": [
    "import torch\n",
    "import torch.nn as nn\n",
    "import numpy as np\n",
    "\n",
    "from torch.utils.data import TensorDataset\n",
    "from torch.utils.data import DataLoader\n",
    "\n",
    "device = torch.device(\"cpu\")"
   ]
  },
  {
   "cell_type": "code",
   "execution_count": 2,
   "metadata": {},
   "outputs": [
    {
     "name": "stdout",
     "output_type": "stream",
     "text": [
      "['age', 'sex', 'bmi', 'bp', 's1', 's2', 's3', 's4', 's5', 's6']\n"
     ]
    }
   ],
   "source": [
    "from sklearn.datasets import load_diabetes\n",
    "\n",
    "data = load_diabetes()\n",
    "print (data.feature_names)\n",
    "\n",
    "X,y = data.data, data.target"
   ]
  },
  {
   "cell_type": "markdown",
   "metadata": {},
   "source": [
    "## 1. Specifying input and targets"
   ]
  },
  {
   "cell_type": "code",
   "execution_count": 3,
   "metadata": {},
   "outputs": [],
   "source": [
    "from sklearn.model_selection import train_test_split\n",
    "X_train, X_test, y_train, y_test = train_test_split(X, y, test_size=0.33, random_state=42 )"
   ]
  },
  {
   "cell_type": "code",
   "execution_count": 4,
   "metadata": {},
   "outputs": [
    {
     "data": {
      "text/plain": [
       "(torch.Size([296, 10]),\n",
       " torch.Size([146, 10]),\n",
       " torch.Size([296]),\n",
       " torch.Size([146]))"
      ]
     },
     "execution_count": 4,
     "metadata": {},
     "output_type": "execute_result"
    }
   ],
   "source": [
    "train_input  = torch.tensor(X_train , dtype = torch.float32)\n",
    "test_input   = torch.tensor(X_test, dtype = torch.float32)\n",
    "train_target = torch.tensor(y_train, dtype = torch.float32)\n",
    "test_target  = torch.tensor(y_test, dtype = torch.float32)\n",
    "\n",
    "train_input.shape, test_input.shape, train_target.shape, test_target.shape"
   ]
  },
  {
   "cell_type": "markdown",
   "metadata": {},
   "source": [
    "## 2. Dataloaders"
   ]
  },
  {
   "cell_type": "code",
   "execution_count": 5,
   "metadata": {},
   "outputs": [
    {
     "data": {
      "text/plain": [
       "(tensor([ 0.0090, -0.0446, -0.0310,  0.0219,  0.0081,  0.0087,  0.0045, -0.0026,\n",
       "          0.0094,  0.0113]),\n",
       " tensor(154.))"
      ]
     },
     "execution_count": 5,
     "metadata": {},
     "output_type": "execute_result"
    }
   ],
   "source": [
    "train_ds = TensorDataset (train_input, train_target)\n",
    "train_ds[0]"
   ]
  },
  {
   "cell_type": "code",
   "execution_count": 6,
   "metadata": {},
   "outputs": [],
   "source": [
    "test_ds = TensorDataset (test_input, test_target)"
   ]
  },
  {
   "cell_type": "code",
   "execution_count": 7,
   "metadata": {},
   "outputs": [
    {
     "data": {
      "text/plain": [
       "296"
      ]
     },
     "execution_count": 7,
     "metadata": {},
     "output_type": "execute_result"
    }
   ],
   "source": [
    "# check the size of train data to get the batch size\n",
    "len(train_ds)\n",
    "\n",
    "# 309 / 32 = 10 round"
   ]
  },
  {
   "cell_type": "code",
   "execution_count": 8,
   "metadata": {},
   "outputs": [],
   "source": [
    "batch_size = 32 # binary - fits nicely to CPU\n",
    "train_dl = DataLoader(train_ds, batch_size=batch_size, shuffle=True, num_workers = 4)\n",
    "test_dl = DataLoader(test_ds, batch_size=batch_size, shuffle=True, num_workers = 4)"
   ]
  },
  {
   "cell_type": "code",
   "execution_count": 9,
   "metadata": {},
   "outputs": [
    {
     "name": "stdout",
     "output_type": "stream",
     "text": [
      "One batch of X:  torch.Size([32, 10])\n",
      "One batch of y:  torch.Size([32])\n"
     ]
    }
   ],
   "source": [
    "# test\n",
    "for batch_x, batch_y, in train_dl:\n",
    "    print (\"One batch of X: \", batch_x.shape)\n",
    "    print (\"One batch of y: \", batch_y.shape)\n",
    "    break\n",
    "    "
   ]
  },
  {
   "cell_type": "markdown",
   "metadata": {},
   "source": [
    "## 3. Layers"
   ]
  },
  {
   "cell_type": "code",
   "execution_count": 10,
   "metadata": {},
   "outputs": [],
   "source": [
    "model = nn.Sequential (\n",
    "    nn.Linear (10, 24),\n",
    "    nn.ReLU(), # allow us to learn non-linear funcitons- activation function\n",
    "    nn.Linear (24, 12),\n",
    "    nn.ReLU(),\n",
    "    nn.Linear (12, 6),\n",
    "    nn.ReLU(),\n",
    "    nn.Linear (6,1)\n",
    ")\n",
    "\n",
    "# any number of matrix multiplication can be approximated into one matrix multiplication.\n",
    "# nn.Linear (10, 24),\n",
    "# nn.Linear (24, 12),\n",
    "# nn.Linear (12, 6),\n",
    "# nn.Linear (6,1)\n",
    "# same as nn.Linear(10, 1)\n",
    "\n",
    "# if you use Sigmoid(), gradient will too small.\n",
    "\n",
    "# we have tanh, relu, leakly, swinrelu, etc. etc... \n",
    "# these activation function make sure gradient > 1"
   ]
  },
  {
   "cell_type": "code",
   "execution_count": 11,
   "metadata": {},
   "outputs": [
    {
     "name": "stdout",
     "output_type": "stream",
     "text": [
      "649\n"
     ]
    }
   ],
   "source": [
    "# for p in model.parameters():\n",
    "    # print (p)\n",
    "    \n",
    "# for ix, p in enumerate (model.parameters()):\n",
    "#     # print (p.shape)\n",
    "#     print (p.numel())\n",
    "total_num_of_params = 0\n",
    "for ix, p in enumerate (model.parameters()):\n",
    "    total_num_of_params += p.numel()\n",
    "print (total_num_of_params)"
   ]
  },
  {
   "cell_type": "code",
   "execution_count": 12,
   "metadata": {},
   "outputs": [
    {
     "name": "stdout",
     "output_type": "stream",
     "text": [
      "torch.Size([296, 1])\n"
     ]
    }
   ],
   "source": [
    "# test before training\n",
    "yhat = model(train_input)\n",
    "assert yhat.shape[1] ==1\n",
    "print(yhat.shape)\n",
    "# print (yhat)"
   ]
  },
  {
   "cell_type": "markdown",
   "metadata": {},
   "source": [
    "## 4. Loss Function"
   ]
  },
  {
   "cell_type": "code",
   "execution_count": 13,
   "metadata": {},
   "outputs": [],
   "source": [
    "criterion = nn.MSELoss()"
   ]
  },
  {
   "cell_type": "markdown",
   "metadata": {},
   "source": [
    "## 5. Optimizer"
   ]
  },
  {
   "cell_type": "code",
   "execution_count": 14,
   "metadata": {},
   "outputs": [],
   "source": [
    "optimizer = torch.optim.SGD (model.parameters(), lr = 0.0001, momentum= 0.9)"
   ]
  },
  {
   "cell_type": "markdown",
   "metadata": {},
   "source": [
    "## 6. Training"
   ]
  },
  {
   "cell_type": "code",
   "execution_count": 15,
   "metadata": {},
   "outputs": [
    {
     "name": "stdout",
     "output_type": "stream",
     "text": [
      "Epoch: 0 | Loss: 17434.09\n",
      "Epoch: 1 | Loss: 26013.16\n",
      "Epoch: 2 | Loss: 3225.57\n",
      "Epoch: 3 | Loss: 9387.80\n",
      "Epoch: 4 | Loss: 4205.36\n"
     ]
    }
   ],
   "source": [
    "num_epoch = 5\n",
    "\n",
    "for epoch in range (num_epoch):\n",
    "    \n",
    "    for batch_x, batch_y in train_dl:\n",
    "        \n",
    "        batch_x.to(device)\n",
    "        batch_y.to(device)\n",
    "        batch_y = batch_y.reshape(-1, 1) #(m,) ==> (m,1)\n",
    "        \n",
    "        yhat = model (batch_x)\n",
    "        \n",
    "        loss = criterion(yhat, batch_y)\n",
    "        \n",
    "        optimizer.zero_grad()\n",
    "        loss.backward()\n",
    "        \n",
    "        optimizer.step()\n",
    "        \n",
    "    print(f\"Epoch: {epoch} | Loss: {loss:.2f}\")"
   ]
  },
  {
   "cell_type": "markdown",
   "metadata": {},
   "source": [
    "## save the model"
   ]
  },
  {
   "cell_type": "code",
   "execution_count": 16,
   "metadata": {},
   "outputs": [],
   "source": [
    "# save your model\n",
    "filename = 'model/diabetes.pth'\n",
    "torch.save(model.state_dict(), filename)"
   ]
  },
  {
   "cell_type": "code",
   "execution_count": 17,
   "metadata": {},
   "outputs": [],
   "source": [
    "\n",
    "# model = torch.load(filename)"
   ]
  },
  {
   "cell_type": "markdown",
   "metadata": {},
   "source": [
    "## 7. Testing"
   ]
  },
  {
   "cell_type": "code",
   "execution_count": 18,
   "metadata": {},
   "outputs": [
    {
     "data": {
      "text/plain": [
       "torch.nn.modules.container.Sequential"
      ]
     },
     "execution_count": 18,
     "metadata": {},
     "output_type": "execute_result"
    }
   ],
   "source": [
    "type(model)"
   ]
  },
  {
   "cell_type": "code",
   "execution_count": 25,
   "metadata": {},
   "outputs": [
    {
     "name": "stdout",
     "output_type": "stream",
     "text": [
      "total Average MSE:  6225.57470703125\n"
     ]
    }
   ],
   "source": [
    "model.eval () # change the model to eval mode - it will not keep the gradients\n",
    "\n",
    "total_avg_mse = 0\n",
    "with torch.no_grad():\n",
    "    \n",
    "    for batch_x, batch_y in test_dl:\n",
    "        \n",
    "        yhat = model(batch_x)\n",
    "        batch_y = batch_y.reshape (-1,1)\n",
    "        \n",
    "        mse = criterion(yhat, batch_y)\n",
    "        \n",
    "        total_avg_mse += mse.item() / len(test_dl)\n",
    "\n",
    "print (\"total Average MSE: \", total_avg_mse)"
   ]
  },
  {
   "cell_type": "markdown",
   "metadata": {},
   "source": []
  }
 ],
 "metadata": {
  "kernelspec": {
   "display_name": "Python 3",
   "language": "python",
   "name": "python3"
  },
  "language_info": {
   "codemirror_mode": {
    "name": "ipython",
    "version": 3
   },
   "file_extension": ".py",
   "mimetype": "text/x-python",
   "name": "python",
   "nbconvert_exporter": "python",
   "pygments_lexer": "ipython3",
   "version": "3.11.4"
  }
 },
 "nbformat": 4,
 "nbformat_minor": 2
}
