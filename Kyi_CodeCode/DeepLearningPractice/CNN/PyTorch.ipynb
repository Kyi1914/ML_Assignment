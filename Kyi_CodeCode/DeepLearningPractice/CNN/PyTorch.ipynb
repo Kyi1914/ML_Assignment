{
 "cells": [
  {
   "cell_type": "markdown",
   "metadata": {},
   "source": [
    "# PyTorch - CNN"
   ]
  },
  {
   "cell_type": "code",
   "execution_count": 1,
   "metadata": {},
   "outputs": [],
   "source": [
    "import torch\n",
    "import torch.nn as nn\n",
    "import torch.nn.functional as F #helper\n",
    "from torch.utils.data import DataLoader # batching\n",
    "from torchvision import datasets, transforms # loading dataset\n",
    "from torchvision.utils import make_grid # for visualization\n",
    "\n",
    "import numpy as np\n",
    "import pandas as pd \n",
    "\n",
    "from sklearn.metrics import confusion_matrix\n",
    "import matplotlib.pyplot as plt"
   ]
  },
  {
   "cell_type": "code",
   "execution_count": 2,
   "metadata": {},
   "outputs": [
    {
     "data": {
      "text/plain": [
       "<torch._C.Generator at 0x10aa7b330>"
      ]
     },
     "execution_count": 2,
     "metadata": {},
     "output_type": "execute_result"
    }
   ],
   "source": [
    "# to help serve as cross validation in deep learning\n",
    "torch.manual_seed(47) "
   ]
  },
  {
   "cell_type": "markdown",
   "metadata": {},
   "source": [
    "## 1. Load the Dataset"
   ]
  },
  {
   "cell_type": "code",
   "execution_count": 3,
   "metadata": {},
   "outputs": [],
   "source": [
    "# define some transforms (convert 0-255 to 0-1)\n",
    "transform = transforms.ToTensor()\n",
    "\n",
    "# if you want to crop the image, rotate the image; they are all done in this transform.\n",
    "\n",
    "# use pytorch dataset to load <MNIST - dataset of digit image>.\n",
    "\n",
    "# train\n",
    "train_data = datasets.MNIST(root='data', train=True, download=True, transform=transform)\n",
    "\n",
    "#validation set\n",
    "train_set, val_set = torch.utils.data.random_split(train_data, [50000,10000])\n",
    "\n",
    "#test\n",
    "test_data = datasets.MNIST (root = 'data', train=True, download= True, transform= transform)\n"
   ]
  },
  {
   "cell_type": "code",
   "execution_count": 4,
   "metadata": {},
   "outputs": [
    {
     "data": {
      "text/plain": [
       "Dataset MNIST\n",
       "    Number of datapoints: 60000\n",
       "    Root location: data\n",
       "    Split: Train\n",
       "    StandardTransform\n",
       "Transform: ToTensor()"
      ]
     },
     "execution_count": 4,
     "metadata": {},
     "output_type": "execute_result"
    }
   ],
   "source": [
    "train_data"
   ]
  },
  {
   "cell_type": "markdown",
   "metadata": {},
   "source": [
    "## 2. DataLoader"
   ]
  },
  {
   "cell_type": "code",
   "execution_count": 5,
   "metadata": {},
   "outputs": [],
   "source": [
    "# batch_size = 1: stochastic\n",
    "# if set train_loader => batch_size = 50000 - batch\n",
    "# if set val_loader => batch_size = 10000\n",
    "# if set test_loader => batch_size = 10000"
   ]
  },
  {
   "cell_type": "code",
   "execution_count": 6,
   "metadata": {},
   "outputs": [],
   "source": [
    "train_loader = DataLoader (train_set, batch_size =64, shuffle=True)\n",
    "val_loader   = DataLoader (val_set,   batch_size =64, shuffle=True)\n",
    "test_loader  = DataLoader (test_data, batch_size =64, shuffle= False) # because no training"
   ]
  },
  {
   "cell_type": "code",
   "execution_count": 7,
   "metadata": {},
   "outputs": [
    {
     "data": {
      "text/plain": [
       "782"
      ]
     },
     "execution_count": 7,
     "metadata": {},
     "output_type": "execute_result"
    }
   ],
   "source": [
    "len(train_loader) # 782 * 64 = 50048 "
   ]
  },
  {
   "cell_type": "code",
   "execution_count": 8,
   "metadata": {},
   "outputs": [],
   "source": [
    "for images, labels in train_loader:\n",
    "    break\n"
   ]
  },
  {
   "cell_type": "code",
   "execution_count": 9,
   "metadata": {},
   "outputs": [
    {
     "name": "stdout",
     "output_type": "stream",
     "text": [
      "torch.Size([64, 1, 28, 28])\n",
      "torch.Size([64])\n"
     ]
    }
   ],
   "source": [
    "print(images.shape )\n",
    "# 64 images, 1 channel, 28 width, 28 height\n",
    "print (labels.shape)"
   ]
  },
  {
   "cell_type": "code",
   "execution_count": 10,
   "metadata": {},
   "outputs": [
    {
     "data": {
      "text/plain": [
       "tensor([[[0.0000, 0.0000, 0.0000, 0.0000, 0.0000, 0.0000, 0.0000, 0.0000,\n",
       "          0.0000, 0.0000, 0.0000, 0.0000, 0.0000, 0.0000, 0.0000, 0.0000,\n",
       "          0.0000, 0.0000, 0.0000, 0.0000, 0.0000, 0.0000, 0.0000, 0.0000,\n",
       "          0.0000, 0.0000, 0.0000, 0.0000],\n",
       "         [0.0000, 0.0000, 0.0000, 0.0000, 0.0000, 0.0000, 0.0000, 0.0000,\n",
       "          0.0000, 0.0000, 0.0000, 0.0000, 0.0000, 0.0000, 0.0000, 0.0000,\n",
       "          0.0000, 0.0000, 0.0000, 0.0000, 0.0000, 0.0000, 0.0000, 0.0000,\n",
       "          0.0000, 0.0000, 0.0000, 0.0000],\n",
       "         [0.0000, 0.0000, 0.0000, 0.0000, 0.0000, 0.0000, 0.0000, 0.0000,\n",
       "          0.0000, 0.0000, 0.0000, 0.0000, 0.0000, 0.0000, 0.0000, 0.0000,\n",
       "          0.0000, 0.0000, 0.0000, 0.0000, 0.0000, 0.0000, 0.0000, 0.0000,\n",
       "          0.0000, 0.0000, 0.0000, 0.0000],\n",
       "         [0.0000, 0.0000, 0.0000, 0.0000, 0.0000, 0.0000, 0.0000, 0.0000,\n",
       "          0.0000, 0.0000, 0.0000, 0.0000, 0.0000, 0.0000, 0.0000, 0.0000,\n",
       "          0.0000, 0.0000, 0.0000, 0.0000, 0.0000, 0.0000, 0.0000, 0.0000,\n",
       "          0.0000, 0.0000, 0.0000, 0.0000],\n",
       "         [0.0000, 0.0000, 0.0000, 0.0000, 0.0000, 0.0000, 0.0000, 0.0000,\n",
       "          0.0000, 0.0000, 0.0000, 0.0000, 0.0000, 0.0000, 0.0000, 0.0000,\n",
       "          0.0000, 0.0000, 0.0000, 0.0000, 0.0000, 0.0000, 0.0000, 0.0000,\n",
       "          0.0000, 0.0000, 0.0000, 0.0000],\n",
       "         [0.0000, 0.0000, 0.0000, 0.0000, 0.0000, 0.0000, 0.0000, 0.0000,\n",
       "          0.0000, 0.0000, 0.0000, 0.0000, 0.0000, 0.0000, 0.0000, 0.0000,\n",
       "          0.0000, 0.0000, 0.0000, 0.0000, 0.0000, 0.0000, 0.0000, 0.0000,\n",
       "          0.0000, 0.0000, 0.0000, 0.0000],\n",
       "         [0.0000, 0.0000, 0.0000, 0.0000, 0.0000, 0.0000, 0.0000, 0.0000,\n",
       "          0.2510, 0.5020, 0.5020, 0.5020, 0.5020, 0.7490, 0.7490, 0.2510,\n",
       "          0.0000, 0.0000, 0.0000, 0.0000, 0.0000, 0.0000, 0.0000, 0.0000,\n",
       "          0.0000, 0.0000, 0.0000, 0.0000],\n",
       "         [0.0000, 0.0000, 0.0000, 0.0000, 0.0000, 0.0000, 0.0000, 0.0000,\n",
       "          0.7490, 1.0000, 1.0000, 0.7490, 0.7490, 1.0000, 1.0000, 1.0000,\n",
       "          0.7490, 0.0000, 0.0000, 0.0000, 0.0000, 0.0000, 0.0000, 0.0000,\n",
       "          0.0000, 0.0000, 0.0000, 0.0000],\n",
       "         [0.0000, 0.0000, 0.0000, 0.0000, 0.0000, 0.0000, 0.0000, 0.0000,\n",
       "          0.0000, 0.5020, 0.2510, 0.0000, 0.7490, 0.2510, 1.0000, 1.0000,\n",
       "          1.0000, 0.0000, 0.0000, 0.0000, 0.0000, 0.0000, 0.0000, 0.0000,\n",
       "          0.0000, 0.0000, 0.0000, 0.0000],\n",
       "         [0.0000, 0.0000, 0.0000, 0.0000, 0.0000, 0.0000, 0.0000, 0.0000,\n",
       "          0.0000, 0.0000, 0.0000, 0.0000, 0.0000, 0.0000, 0.5020, 1.0000,\n",
       "          0.5020, 0.0000, 0.0000, 0.0000, 0.0000, 0.0000, 0.0000, 0.0000,\n",
       "          0.0000, 0.0000, 0.0000, 0.0000],\n",
       "         [0.0000, 0.0000, 0.0000, 0.0000, 0.0000, 0.0000, 0.0000, 0.0000,\n",
       "          0.0000, 0.0000, 0.0000, 0.0000, 0.0000, 0.0000, 0.7490, 1.0000,\n",
       "          0.5020, 0.0000, 0.0000, 0.0000, 0.0000, 0.0000, 0.0000, 0.0000,\n",
       "          0.0000, 0.0000, 0.0000, 0.0000],\n",
       "         [0.0000, 0.0000, 0.0000, 0.0000, 0.0000, 0.0000, 0.0000, 0.0000,\n",
       "          0.0000, 0.0000, 0.0000, 0.0000, 0.0000, 0.5020, 1.0000, 1.0000,\n",
       "          0.2510, 0.0000, 0.0000, 0.0000, 0.0000, 0.0000, 0.0000, 0.0000,\n",
       "          0.0000, 0.0000, 0.0000, 0.0000],\n",
       "         [0.0000, 0.0000, 0.0000, 0.0000, 0.0000, 0.0000, 0.0000, 0.0000,\n",
       "          0.0000, 0.0000, 0.0000, 0.0000, 0.0000, 0.5020, 1.0000, 1.0000,\n",
       "          0.5020, 0.0000, 0.0000, 0.0000, 0.0000, 0.0000, 0.0000, 0.0000,\n",
       "          0.0000, 0.0000, 0.0000, 0.0000],\n",
       "         [0.0000, 0.0000, 0.0000, 0.0000, 0.0000, 0.0000, 0.0000, 0.0000,\n",
       "          0.0000, 0.0000, 0.0000, 0.0000, 0.0000, 0.5020, 1.0000, 1.0000,\n",
       "          0.5020, 0.0000, 0.0000, 0.0000, 0.0000, 0.0000, 0.0000, 0.0000,\n",
       "          0.0000, 0.0000, 0.0000, 0.0000],\n",
       "         [0.0000, 0.0000, 0.0000, 0.0000, 0.0000, 0.0000, 0.0000, 0.0000,\n",
       "          0.0000, 0.0000, 0.0000, 0.0000, 0.0000, 0.2510, 1.0000, 1.0000,\n",
       "          0.5020, 0.0000, 0.0000, 0.0000, 0.0000, 0.0000, 0.0000, 0.0000,\n",
       "          0.0000, 0.0000, 0.0000, 0.0000],\n",
       "         [0.0000, 0.0000, 0.0000, 0.0000, 0.0000, 0.0000, 0.0000, 0.0000,\n",
       "          0.0000, 0.0000, 0.7490, 1.0000, 0.5020, 0.5020, 1.0000, 1.0000,\n",
       "          0.5020, 0.0000, 0.0000, 0.0000, 0.0000, 0.0000, 0.0000, 0.0000,\n",
       "          0.0000, 0.0000, 0.0000, 0.0000],\n",
       "         [0.0000, 0.0000, 0.0000, 0.0000, 0.0000, 0.0000, 0.0000, 0.0000,\n",
       "          0.0000, 0.0000, 0.5020, 1.0000, 1.0000, 1.0000, 1.0000, 1.0000,\n",
       "          1.0000, 1.0000, 0.0000, 0.0000, 0.0000, 0.0000, 0.0000, 0.0000,\n",
       "          0.0000, 0.0000, 0.0000, 0.0000],\n",
       "         [0.0000, 0.0000, 0.0000, 0.0000, 0.0000, 0.0000, 0.0000, 0.0000,\n",
       "          0.0000, 0.0000, 0.2510, 0.2510, 1.0000, 1.0000, 1.0000, 1.0000,\n",
       "          1.0000, 0.5020, 0.0000, 0.0000, 0.0000, 0.0000, 0.0000, 0.0000,\n",
       "          0.0000, 0.0000, 0.0000, 0.0000],\n",
       "         [0.0000, 0.0000, 0.0000, 0.0000, 0.0000, 0.0000, 0.0000, 0.0000,\n",
       "          0.0000, 0.0000, 0.0000, 0.0000, 0.0000, 0.5020, 1.0000, 1.0000,\n",
       "          0.5020, 0.0000, 0.0000, 0.0000, 0.0000, 0.0000, 0.0000, 0.0000,\n",
       "          0.0000, 0.0000, 0.0000, 0.0000],\n",
       "         [0.0000, 0.0000, 0.0000, 0.0000, 0.0000, 0.0000, 0.0000, 0.0000,\n",
       "          0.0000, 0.0000, 0.0000, 0.0000, 0.0000, 0.5020, 1.0000, 1.0000,\n",
       "          0.5020, 0.0000, 0.0000, 0.0000, 0.0000, 0.0000, 0.0000, 0.0000,\n",
       "          0.0000, 0.0000, 0.0000, 0.0000],\n",
       "         [0.0000, 0.0000, 0.0000, 0.0000, 0.0000, 0.0000, 0.0000, 0.0000,\n",
       "          0.0000, 0.0000, 0.0000, 0.0000, 0.0000, 0.5020, 1.0000, 1.0000,\n",
       "          0.0000, 0.0000, 0.0000, 0.0000, 0.0000, 0.0000, 0.0000, 0.0000,\n",
       "          0.0000, 0.0000, 0.0000, 0.0000],\n",
       "         [0.0000, 0.0000, 0.0000, 0.0000, 0.0000, 0.0000, 0.0000, 0.0000,\n",
       "          0.0000, 0.0000, 0.0000, 0.0000, 0.0000, 0.5020, 1.0000, 0.5020,\n",
       "          0.0000, 0.0000, 0.0000, 0.0000, 0.0000, 0.0000, 0.0000, 0.0000,\n",
       "          0.0000, 0.0000, 0.0000, 0.0000],\n",
       "         [0.0000, 0.0000, 0.0000, 0.0000, 0.0000, 0.0000, 0.0000, 0.0000,\n",
       "          0.0000, 0.0000, 0.0000, 0.0000, 0.0000, 0.5020, 1.0000, 0.0000,\n",
       "          0.0000, 0.0000, 0.0000, 0.0000, 0.0000, 0.0000, 0.0000, 0.0000,\n",
       "          0.0000, 0.0000, 0.0000, 0.0000],\n",
       "         [0.0000, 0.0000, 0.0000, 0.0000, 0.0000, 0.0000, 0.0000, 0.0000,\n",
       "          0.0000, 0.0000, 0.0000, 0.0000, 0.0000, 1.0000, 1.0000, 0.0000,\n",
       "          0.0000, 0.0000, 0.0000, 0.0000, 0.0000, 0.0000, 0.0000, 0.0000,\n",
       "          0.0000, 0.0000, 0.0000, 0.0000],\n",
       "         [0.0000, 0.0000, 0.0000, 0.0000, 0.0000, 0.0000, 0.0000, 0.0000,\n",
       "          0.0000, 0.0000, 0.0000, 0.0000, 0.0000, 1.0000, 0.7490, 0.0000,\n",
       "          0.0000, 0.0000, 0.0000, 0.0000, 0.0000, 0.0000, 0.0000, 0.0000,\n",
       "          0.0000, 0.0000, 0.0000, 0.0000],\n",
       "         [0.0000, 0.0000, 0.0000, 0.0000, 0.0000, 0.0000, 0.0000, 0.0000,\n",
       "          0.0000, 0.0000, 0.0000, 0.0000, 0.0000, 0.7490, 0.0000, 0.0000,\n",
       "          0.0000, 0.0000, 0.0000, 0.0000, 0.0000, 0.0000, 0.0000, 0.0000,\n",
       "          0.0000, 0.0000, 0.0000, 0.0000],\n",
       "         [0.0000, 0.0000, 0.0000, 0.0000, 0.0000, 0.0000, 0.0000, 0.0000,\n",
       "          0.0000, 0.0000, 0.0000, 0.0000, 0.0000, 0.0000, 0.0000, 0.0000,\n",
       "          0.0000, 0.0000, 0.0000, 0.0000, 0.0000, 0.0000, 0.0000, 0.0000,\n",
       "          0.0000, 0.0000, 0.0000, 0.0000],\n",
       "         [0.0000, 0.0000, 0.0000, 0.0000, 0.0000, 0.0000, 0.0000, 0.0000,\n",
       "          0.0000, 0.0000, 0.0000, 0.0000, 0.0000, 0.0000, 0.0000, 0.0000,\n",
       "          0.0000, 0.0000, 0.0000, 0.0000, 0.0000, 0.0000, 0.0000, 0.0000,\n",
       "          0.0000, 0.0000, 0.0000, 0.0000]]])"
      ]
     },
     "execution_count": 10,
     "metadata": {},
     "output_type": "execute_result"
    }
   ],
   "source": [
    "# get the first image\n",
    "images[0] "
   ]
  },
  {
   "cell_type": "code",
   "execution_count": 11,
   "metadata": {},
   "outputs": [
    {
     "data": {
      "text/plain": [
       "7"
      ]
     },
     "execution_count": 11,
     "metadata": {},
     "output_type": "execute_result"
    },
    {
     "data": {
      "image/png": "[encoded data removed]",
      "text/plain": [
       "<Figure size 300x200 with 1 Axes>"
      ]
     },
     "metadata": {},
     "output_type": "display_data"
    }
   ],
   "source": [
    "the_image = images[0]\n",
    "# the_image is channel,height, width, we will transform h,w,channel: use transpose\n",
    "the_image = np.transpose(the_image, (1,2,0))\n",
    "plt.figure(figsize=(3,2))\n",
    "plt.imshow(the_image)\n",
    "\n",
    "labels[0].item()"
   ]
  },
  {
   "cell_type": "markdown",
   "metadata": {},
   "source": [
    "## 3. Define the network"
   ]
  },
  {
   "cell_type": "code",
   "execution_count": 12,
   "metadata": {},
   "outputs": [
    {
     "data": {
      "text/plain": [
       "torch.Size([64, 1, 28, 28])"
      ]
     },
     "execution_count": 12,
     "metadata": {},
     "output_type": "execute_result"
    }
   ],
   "source": [
    "images.shape #input"
   ]
  },
  {
   "cell_type": "code",
   "execution_count": 13,
   "metadata": {},
   "outputs": [],
   "source": [
    "# understanding the relationship between the input and convolutional layer and output\n",
    "\n",
    "layer1 = nn.Conv2d(in_channels=1, out_channels=3, kernel_size=3, stride = 1, padding=1 )"
   ]
  },
  {
   "cell_type": "markdown",
   "metadata": {},
   "source": [
    "$$0 = \\frac{I-F+2P}{S} + 1$$\n",
    "\n",
    "I = image width/height, F = filter size, P = padding, S = stride, O = output width/height\n"
   ]
  },
  {
   "cell_type": "code",
   "execution_count": 14,
   "metadata": {},
   "outputs": [
    {
     "data": {
      "text/plain": [
       "torch.Size([64, 3, 28, 28])"
      ]
     },
     "execution_count": 14,
     "metadata": {},
     "output_type": "execute_result"
    }
   ],
   "source": [
    "# how to pass something in to this layer\n",
    "out = layer1(images)\n",
    "out.shape"
   ]
  },
  {
   "cell_type": "code",
   "execution_count": 15,
   "metadata": {},
   "outputs": [
    {
     "data": {
      "text/plain": [
       "torch.Size([64, 10, 28, 28])"
      ]
     },
     "execution_count": 15,
     "metadata": {},
     "output_type": "execute_result"
    }
   ],
   "source": [
    "# check the shape for my Conv2d Layers\n",
    "layer1 = nn.Conv2d (1,  5, 3, 1, 1)\n",
    "layer2 = nn.Conv2d (5, 10, 3, 1, 1)\n",
    "\n",
    "out = layer2(layer1(images))\n",
    "out.shape"
   ]
  },
  {
   "cell_type": "code",
   "execution_count": 16,
   "metadata": {},
   "outputs": [
    {
     "data": {
      "text/plain": [
       "torch.Size([64, 120])"
      ]
     },
     "execution_count": 16,
     "metadata": {},
     "output_type": "execute_result"
    }
   ],
   "source": [
    "layer_3 = nn.Linear(10*28*28, 120)\n",
    "out = out.reshape (-1, 10* 28 *28)\n",
    "out.shape\n",
    "\n",
    "out2 = layer_3(out)\n",
    "out2.shape"
   ]
  },
  {
   "cell_type": "code",
   "execution_count": 17,
   "metadata": {},
   "outputs": [],
   "source": [
    "class Kyi_CNN(nn.Module):\n",
    "    \n",
    "    def __init__(self): # init all parameters and layers\n",
    "        super().__init__() # inherit everything from nn.Module\n",
    "        self.layer1 = nn.Conv2d (1,  5, 3, 1, 1)\n",
    "        self.layer2 = nn.Conv2d (5, 10, 3, 1, 1)\n",
    "        # predict\n",
    "        self.layer3 = nn.Linear(10* 28 * 28, 120)\n",
    "        self.layer4 = nn.Linear(120, 84)\n",
    "        self.layer5 = nn.Linear(84, 10) # why 10? because 10 classes\n",
    "        \n",
    "    def forward(self, images): # performaing the forward pass through all layers\n",
    "        # images: 64, 1, 28, 28\n",
    "        out = F.relu(self.layer1(images))\n",
    "        # out: 64, 5, 28, 28\n",
    "        out = F.relu(self.layer2(out))\n",
    "        # out : 64, 10, 28, 28\n",
    "        out = out.reshape((-1, 10*28*28))\n",
    "        # out: 64, 7840\n",
    "        out = F.relu(self.layer3(out))\n",
    "        # out : 64, 120\n",
    "        out = F.relu(self.layer4(out))\n",
    "        # out : 64, 84\n",
    "        out = self.layer5(out)\n",
    "        # out  64, 10\n",
    "        return out\n",
    "        "
   ]
  },
  {
   "cell_type": "code",
   "execution_count": 18,
   "metadata": {},
   "outputs": [
    {
     "data": {
      "text/plain": [
       "tensor([[ 9.1114e-02, -1.4165e-02,  5.1097e-02,  2.5815e-02, -4.5495e-02,\n",
       "          3.1656e-02, -1.6194e-03,  1.0419e-01,  6.1038e-02,  1.0223e-01],\n",
       "        [ 9.1274e-02, -1.3656e-02,  4.5651e-02,  2.4789e-02, -4.5820e-02,\n",
       "          3.0810e-02, -4.7850e-03,  1.0431e-01,  6.0201e-02,  1.0115e-01],\n",
       "        [ 9.0403e-02, -1.4849e-02,  4.7988e-02,  2.6714e-02, -4.5026e-02,\n",
       "          3.2364e-02,  3.5785e-03,  1.0061e-01,  6.2360e-02,  1.0581e-01],\n",
       "        [ 9.1705e-02, -9.9155e-03,  4.4772e-02,  2.8917e-02, -5.2054e-02,\n",
       "          3.3046e-02,  1.1630e-03,  9.7088e-02,  5.6755e-02,  1.0242e-01],\n",
       "        [ 8.9981e-02, -1.1283e-02,  5.2177e-02,  2.5440e-02, -4.7037e-02,\n",
       "          3.6128e-02,  6.8915e-03,  1.0396e-01,  6.1533e-02,  1.0280e-01],\n",
       "        [ 9.1396e-02, -1.1580e-02,  4.7660e-02,  2.6271e-02, -4.9489e-02,\n",
       "          3.8322e-02,  2.9823e-03,  1.0538e-01,  6.0376e-02,  1.0088e-01],\n",
       "        [ 9.0919e-02, -1.0533e-02,  4.8746e-02,  2.8631e-02, -4.5874e-02,\n",
       "          3.6126e-02,  6.8475e-03,  1.0248e-01,  5.8629e-02,  9.8576e-02],\n",
       "        [ 9.1642e-02, -1.4479e-02,  4.4693e-02,  2.2368e-02, -4.8568e-02,\n",
       "          3.9486e-02, -2.0667e-03,  1.0348e-01,  5.7828e-02,  1.0126e-01],\n",
       "        [ 8.7724e-02, -1.1048e-02,  4.4085e-02,  2.4708e-02, -4.9157e-02,\n",
       "          3.2083e-02, -9.7256e-04,  1.0686e-01,  6.0538e-02,  1.0228e-01],\n",
       "        [ 8.9020e-02, -1.0032e-02,  4.3477e-02,  2.6194e-02, -4.8179e-02,\n",
       "          3.8184e-02, -5.2370e-03,  1.0703e-01,  5.8878e-02,  1.0552e-01],\n",
       "        [ 9.1077e-02, -6.0762e-03,  4.8968e-02,  2.7282e-02, -4.4012e-02,\n",
       "          3.3316e-02, -1.3571e-03,  1.0565e-01,  5.6473e-02,  1.0042e-01],\n",
       "        [ 8.9918e-02, -7.3109e-03,  4.8652e-02,  2.8568e-02, -4.2804e-02,\n",
       "          3.3008e-02, -6.0407e-05,  1.0207e-01,  5.9390e-02,  1.0002e-01],\n",
       "        [ 8.9236e-02, -1.0289e-02,  5.2298e-02,  2.8540e-02, -4.5605e-02,\n",
       "          2.9010e-02,  3.8065e-03,  1.0521e-01,  6.1027e-02,  1.0241e-01],\n",
       "        [ 9.2079e-02, -1.1183e-02,  4.5532e-02,  2.4792e-02, -4.9197e-02,\n",
       "          3.6622e-02,  7.9354e-04,  1.0351e-01,  5.7441e-02,  1.0284e-01],\n",
       "        [ 9.3240e-02, -1.0538e-02,  4.7524e-02,  2.6439e-02, -4.8358e-02,\n",
       "          3.3736e-02,  5.3451e-04,  9.9392e-02,  5.9536e-02,  1.0287e-01],\n",
       "        [ 9.1606e-02, -1.6908e-02,  4.4262e-02,  2.3647e-02, -4.9242e-02,\n",
       "          3.1050e-02, -3.1720e-03,  1.0911e-01,  6.0558e-02,  9.7784e-02],\n",
       "        [ 9.5763e-02, -1.0881e-02,  4.8238e-02,  3.0096e-02, -4.3584e-02,\n",
       "          3.9303e-02,  5.6006e-04,  1.0104e-01,  6.3789e-02,  1.0076e-01],\n",
       "        [ 9.2547e-02, -1.8089e-02,  4.7867e-02,  2.4355e-02, -5.2802e-02,\n",
       "          3.4794e-02, -1.1965e-03,  1.0195e-01,  5.7788e-02,  1.0702e-01],\n",
       "        [ 9.3722e-02, -1.0612e-02,  5.0533e-02,  2.6587e-02, -4.5842e-02,\n",
       "          3.5514e-02, -1.6915e-03,  1.0061e-01,  6.1889e-02,  1.0425e-01],\n",
       "        [ 8.8999e-02, -1.1392e-02,  4.4256e-02,  2.9731e-02, -4.5266e-02,\n",
       "          3.1645e-02, -4.6947e-03,  1.0532e-01,  5.8100e-02,  1.0135e-01],\n",
       "        [ 8.9495e-02, -8.7474e-03,  4.4559e-02,  2.6708e-02, -4.6682e-02,\n",
       "          3.5432e-02, -3.1786e-03,  1.0039e-01,  5.6677e-02,  1.0229e-01],\n",
       "        [ 9.2282e-02, -1.2298e-02,  4.4786e-02,  2.5632e-02, -4.5987e-02,\n",
       "          3.4135e-02, -5.0992e-03,  1.0155e-01,  6.2005e-02,  1.0100e-01],\n",
       "        [ 9.1708e-02, -1.3677e-02,  5.1266e-02,  2.4043e-02, -4.8930e-02,\n",
       "          3.2422e-02, -1.6930e-05,  1.0561e-01,  6.1415e-02,  1.0067e-01],\n",
       "        [ 9.0336e-02, -1.3708e-02,  4.6203e-02,  2.3303e-02, -4.8334e-02,\n",
       "          3.1374e-02, -4.9674e-03,  1.0229e-01,  5.7496e-02,  1.0085e-01],\n",
       "        [ 9.3224e-02, -1.0354e-02,  4.5441e-02,  2.2802e-02, -4.5753e-02,\n",
       "          3.2982e-02, -8.4747e-03,  1.0080e-01,  6.2009e-02,  1.0441e-01],\n",
       "        [ 9.3871e-02, -8.6303e-03,  4.4675e-02,  2.8649e-02, -4.8064e-02,\n",
       "          3.6742e-02,  1.6481e-03,  1.0218e-01,  5.8366e-02,  1.0249e-01],\n",
       "        [ 9.1777e-02, -1.1876e-02,  5.0086e-02,  2.6056e-02, -4.8348e-02,\n",
       "          3.3604e-02,  3.7179e-03,  1.0320e-01,  5.7354e-02,  9.8327e-02],\n",
       "        [ 9.3282e-02, -1.3541e-02,  4.9583e-02,  2.4341e-02, -4.7359e-02,\n",
       "          3.5667e-02, -6.2583e-04,  1.0587e-01,  5.9571e-02,  1.0155e-01],\n",
       "        [ 9.2816e-02, -9.3883e-03,  4.5766e-02,  2.5235e-02, -4.5032e-02,\n",
       "          3.5448e-02,  1.2185e-03,  9.8762e-02,  6.0421e-02,  1.0632e-01],\n",
       "        [ 9.0425e-02, -1.1372e-02,  4.7639e-02,  2.6469e-02, -4.5018e-02,\n",
       "          3.8318e-02,  1.7459e-03,  1.0059e-01,  5.8167e-02,  1.0304e-01],\n",
       "        [ 8.4325e-02, -1.4200e-02,  4.5663e-02,  1.9118e-02, -4.8681e-02,\n",
       "          3.3143e-02, -7.2267e-03,  1.0900e-01,  6.0947e-02,  1.0139e-01],\n",
       "        [ 9.5112e-02, -9.4904e-03,  4.0762e-02,  2.4415e-02, -4.4524e-02,\n",
       "          3.1114e-02, -1.0065e-02,  1.0003e-01,  6.1727e-02,  1.0442e-01],\n",
       "        [ 9.5118e-02, -6.9678e-03,  4.2393e-02,  2.4929e-02, -4.3988e-02,\n",
       "          4.0876e-02, -4.1795e-03,  9.6923e-02,  6.3470e-02,  1.0375e-01],\n",
       "        [ 9.4613e-02, -7.4831e-03,  3.9600e-02,  2.7394e-02, -5.0199e-02,\n",
       "          3.4334e-02,  2.4184e-03,  9.8887e-02,  5.8683e-02,  1.0344e-01],\n",
       "        [ 8.6715e-02, -8.1145e-03,  4.1898e-02,  2.5494e-02, -4.7055e-02,\n",
       "          3.3639e-02, -2.9548e-03,  1.0540e-01,  5.5706e-02,  1.0302e-01],\n",
       "        [ 9.2851e-02, -1.3113e-02,  4.8324e-02,  2.3835e-02, -4.8269e-02,\n",
       "          3.2978e-02,  1.7558e-04,  1.0539e-01,  6.0410e-02,  9.9680e-02],\n",
       "        [ 9.1790e-02, -7.7152e-03,  4.8181e-02,  2.5677e-02, -4.5050e-02,\n",
       "          3.4497e-02, -1.1985e-03,  9.7342e-02,  5.8570e-02,  1.0132e-01],\n",
       "        [ 8.9703e-02, -1.1246e-02,  4.2422e-02,  2.1236e-02, -5.2627e-02,\n",
       "          3.7572e-02, -4.4402e-03,  1.0298e-01,  6.0792e-02,  1.0386e-01],\n",
       "        [ 8.9381e-02, -6.3994e-03,  4.5840e-02,  2.8516e-02, -4.8941e-02,\n",
       "          3.4138e-02, -3.1563e-03,  1.0107e-01,  5.8759e-02,  1.0560e-01],\n",
       "        [ 9.0109e-02, -1.6470e-02,  4.8051e-02,  2.8611e-02, -4.5397e-02,\n",
       "          3.2621e-02, -4.3963e-03,  1.0815e-01,  6.1567e-02,  1.0466e-01],\n",
       "        [ 9.7871e-02, -1.3712e-02,  4.4667e-02,  2.5492e-02, -4.7787e-02,\n",
       "          3.4093e-02, -4.6954e-04,  9.6371e-02,  5.7826e-02,  1.0444e-01],\n",
       "        [ 9.3615e-02, -1.4081e-02,  4.6450e-02,  2.2913e-02, -4.9677e-02,\n",
       "          3.4237e-02,  1.6238e-03,  1.0467e-01,  5.9045e-02,  9.9456e-02],\n",
       "        [ 9.3137e-02, -1.1379e-02,  5.0397e-02,  2.9641e-02, -4.9296e-02,\n",
       "          3.8427e-02,  4.8064e-03,  1.0308e-01,  6.0201e-02,  1.0100e-01],\n",
       "        [ 9.3953e-02, -1.2670e-02,  4.8973e-02,  2.7956e-02, -5.0563e-02,\n",
       "          3.2269e-02,  2.3574e-03,  1.0071e-01,  5.8501e-02,  1.0108e-01],\n",
       "        [ 9.0978e-02, -1.3301e-02,  4.7701e-02,  2.6170e-02, -4.8668e-02,\n",
       "          3.3009e-02, -2.7192e-03,  1.0334e-01,  6.0840e-02,  1.0263e-01],\n",
       "        [ 8.9518e-02, -1.3047e-02,  4.3340e-02,  2.9444e-02, -5.2143e-02,\n",
       "          3.3037e-02, -3.5646e-03,  1.0553e-01,  5.7241e-02,  1.0091e-01],\n",
       "        [ 8.9586e-02, -9.7105e-03,  4.9715e-02,  2.7808e-02, -4.7902e-02,\n",
       "          3.5057e-02, -2.1474e-03,  1.0140e-01,  6.1529e-02,  1.0287e-01],\n",
       "        [ 9.1575e-02, -1.0060e-02,  4.4758e-02,  2.6863e-02, -5.1594e-02,\n",
       "          3.4337e-02, -7.2282e-04,  9.7507e-02,  6.0778e-02,  1.0338e-01],\n",
       "        [ 8.9041e-02, -4.4127e-03,  4.8997e-02,  2.6053e-02, -4.9701e-02,\n",
       "          3.9167e-02, -1.0444e-03,  1.0165e-01,  5.8294e-02,  1.0454e-01],\n",
       "        [ 9.1179e-02, -1.2389e-02,  4.5352e-02,  2.4300e-02, -4.6846e-02,\n",
       "          3.3727e-02, -6.6746e-03,  1.0427e-01,  5.9483e-02,  1.0127e-01],\n",
       "        [ 9.1285e-02, -1.6237e-02,  4.7476e-02,  2.4548e-02, -4.6223e-02,\n",
       "          2.8677e-02, -2.0001e-04,  1.0592e-01,  5.8504e-02,  9.8470e-02],\n",
       "        [ 9.3242e-02, -1.0258e-02,  4.6038e-02,  2.6145e-02, -4.7296e-02,\n",
       "          3.4598e-02, -3.6914e-03,  1.0420e-01,  6.1446e-02,  9.8880e-02],\n",
       "        [ 9.2807e-02, -1.3158e-02,  3.9609e-02,  2.5714e-02, -4.6109e-02,\n",
       "          3.2088e-02, -5.8312e-03,  1.0181e-01,  5.8566e-02,  9.9772e-02],\n",
       "        [ 9.4194e-02, -1.4666e-02,  5.2566e-02,  2.6637e-02, -4.5539e-02,\n",
       "          3.2732e-02,  8.0338e-05,  1.0357e-01,  6.4578e-02,  1.0133e-01],\n",
       "        [ 9.0874e-02, -1.3871e-02,  4.4311e-02,  2.3519e-02, -4.5944e-02,\n",
       "          3.5464e-02, -1.9501e-03,  1.0677e-01,  5.9706e-02,  1.0214e-01],\n",
       "        [ 9.4277e-02, -1.2338e-02,  4.1877e-02,  2.4786e-02, -4.6227e-02,\n",
       "          3.4475e-02, -7.1461e-03,  9.8759e-02,  5.6792e-02,  1.0028e-01],\n",
       "        [ 8.8424e-02, -9.5885e-03,  4.9882e-02,  2.7550e-02, -4.7781e-02,\n",
       "          3.7288e-02,  3.4591e-03,  1.0253e-01,  5.7375e-02,  1.0282e-01],\n",
       "        [ 9.0577e-02, -1.3504e-02,  4.6526e-02,  2.4855e-02, -4.9338e-02,\n",
       "          3.2821e-02, -4.6637e-03,  1.0466e-01,  5.8942e-02,  1.0046e-01],\n",
       "        [ 9.2570e-02, -1.5644e-02,  4.9300e-02,  2.6892e-02, -4.7445e-02,\n",
       "          3.1368e-02,  2.2635e-04,  1.0540e-01,  5.8602e-02,  1.0066e-01],\n",
       "        [ 8.7148e-02, -1.1566e-02,  4.6623e-02,  2.2392e-02, -4.7320e-02,\n",
       "          3.6559e-02, -5.9434e-03,  1.0658e-01,  5.5590e-02,  1.0140e-01],\n",
       "        [ 9.0575e-02, -7.4972e-03,  4.1653e-02,  2.4750e-02, -5.4045e-02,\n",
       "          3.4424e-02, -3.2790e-03,  1.0095e-01,  5.6939e-02,  1.0217e-01],\n",
       "        [ 9.2250e-02, -7.3058e-03,  4.7740e-02,  2.7142e-02, -4.7024e-02,\n",
       "          3.8543e-02, -1.5275e-03,  1.0030e-01,  5.8402e-02,  1.0249e-01],\n",
       "        [ 9.1815e-02, -6.9117e-03,  4.8670e-02,  2.6286e-02, -4.8379e-02,\n",
       "          3.3607e-02,  7.4873e-04,  9.9380e-02,  5.8872e-02,  1.0153e-01],\n",
       "        [ 9.1842e-02, -1.2581e-02,  4.8616e-02,  2.6696e-02, -4.7888e-02,\n",
       "          3.5780e-02,  5.1989e-03,  1.0334e-01,  6.1274e-02,  1.0044e-01]],\n",
       "       grad_fn=<AddmmBackward0>)"
      ]
     },
     "execution_count": 18,
     "metadata": {},
     "output_type": "execute_result"
    }
   ],
   "source": [
    "# test\n",
    "kyi_model = Kyi_CNN()\n",
    "output = kyi_model(images)\n",
    "output"
   ]
  },
  {
   "cell_type": "code",
   "execution_count": null,
   "metadata": {},
   "outputs": [],
   "source": [
    "numbers = torch.tensor ([])"
   ]
  },
  {
   "cell_type": "code",
   "execution_count": 19,
   "metadata": {},
   "outputs": [
    {
     "name": "stdout",
     "output_type": "stream",
     "text": [
      "952444\n"
     ]
    }
   ],
   "source": [
    "# counting the parameters\n",
    "total_num_of_params = 0\n",
    "for param in kyi_model.parameters():\n",
    "    total_num_of_params += param.numel()\n",
    "    \n",
    "print(total_num_of_params)"
   ]
  },
  {
   "cell_type": "markdown",
   "metadata": {},
   "source": [
    "## 4. Define the Loss and Optimizer"
   ]
  },
  {
   "cell_type": "code",
   "execution_count": 22,
   "metadata": {},
   "outputs": [],
   "source": [
    "criterion = nn.CrossEntropyLoss()\n",
    "optimizer = torch.optim.Adam(kyi_model.parameters(), lr = 0.001)"
   ]
  },
  {
   "cell_type": "markdown",
   "metadata": {},
   "source": [
    "## 5. Train the Dataset"
   ]
  },
  {
   "cell_type": "code",
   "execution_count": 23,
   "metadata": {},
   "outputs": [
    {
     "name": "stdout",
     "output_type": "stream",
     "text": [
      "epoch: 1 | loss: 0.04384792968630791\n"
     ]
    }
   ],
   "source": [
    "num_epoch = 1\n",
    "# 1. loop epoch\n",
    "for i in range (num_epoch):\n",
    "    \n",
    "    # 2. loop train loader\n",
    "    for images, labels in train_loader:\n",
    "        \n",
    "        # 3. predict / forward pass\n",
    "        yhat = kyi_model(images)\n",
    "    \n",
    "        # 4. calculate loss\n",
    "        loss = criterion(yhat, labels)\n",
    "        \n",
    "        # 5. calculate gradient\n",
    "        optimizer.zero_grad()\n",
    "        loss.backward()\n",
    "    \n",
    "        # 6. update weight\n",
    "        optimizer.step()\n",
    "    \n",
    "    print(f\"epoch: {num_epoch} | loss: {loss}\")"
   ]
  },
  {
   "cell_type": "code",
   "execution_count": null,
   "metadata": {},
   "outputs": [],
   "source": []
  },
  {
   "cell_type": "markdown",
   "metadata": {},
   "source": [
    "## 6. Test"
   ]
  },
  {
   "cell_type": "code",
   "execution_count": 24,
   "metadata": {},
   "outputs": [
    {
     "name": "stdout",
     "output_type": "stream",
     "text": [
      "Cross Entropy Loss: 0.02139492891728878\n"
     ]
    }
   ],
   "source": [
    "kyi_model.eval() # this will turn off dropout, batch norm\n",
    "with torch.no_grad(): # this will turn off gradient calculations\n",
    "\n",
    "    for images, labels in test_loader:\n",
    "        # 1. predict\n",
    "        y_hat = kyi_model(images)\n",
    "        # 2. loss\n",
    "        loss = criterion(y_hat, labels)\n",
    "        \n",
    "print(\"Cross Entropy Loss:\", loss.item())"
   ]
  },
  {
   "cell_type": "markdown",
   "metadata": {},
   "source": [
    "## 7. Analysis"
   ]
  },
  {
   "cell_type": "code",
   "execution_count": 27,
   "metadata": {},
   "outputs": [
    {
     "data": {
      "text/plain": [
       "(torch.Size([32, 10]), torch.Size([32]))"
      ]
     },
     "execution_count": 27,
     "metadata": {},
     "output_type": "execute_result"
    }
   ],
   "source": [
    "y_hat.shape, labels.shape"
   ]
  },
  {
   "cell_type": "code",
   "execution_count": 30,
   "metadata": {},
   "outputs": [
    {
     "data": {
      "text/plain": [
       "torch.Size([32])"
      ]
     },
     "execution_count": 30,
     "metadata": {},
     "output_type": "execute_result"
    }
   ],
   "source": [
    "y_hat_pred = torch.max(y_hat, 1)[1]\n",
    "y_hat_pred.shape"
   ]
  },
  {
   "cell_type": "code",
   "execution_count": 29,
   "metadata": {},
   "outputs": [
    {
     "data": {
      "text/plain": [
       "array([[2, 0, 0, 0, 0, 0, 0, 0, 0, 0],\n",
       "       [0, 3, 0, 0, 0, 0, 0, 0, 0, 0],\n",
       "       [0, 0, 6, 0, 0, 0, 0, 0, 0, 0],\n",
       "       [0, 0, 0, 3, 0, 0, 0, 0, 0, 0],\n",
       "       [0, 0, 0, 0, 1, 0, 0, 0, 0, 0],\n",
       "       [0, 0, 0, 0, 0, 3, 0, 0, 0, 0],\n",
       "       [0, 0, 0, 0, 0, 0, 5, 0, 0, 0],\n",
       "       [0, 0, 0, 0, 0, 0, 0, 2, 0, 0],\n",
       "       [0, 0, 0, 0, 0, 0, 0, 0, 3, 0],\n",
       "       [0, 0, 0, 0, 0, 0, 0, 0, 0, 4]])"
      ]
     },
     "execution_count": 29,
     "metadata": {},
     "output_type": "execute_result"
    }
   ],
   "source": [
    "# confusion matrix\n",
    "confusion_matrix(y_hat_pred, labels)"
   ]
  },
  {
   "cell_type": "markdown",
   "metadata": {},
   "source": [
    "## 8. Inference"
   ]
  },
  {
   "cell_type": "code",
   "execution_count": 31,
   "metadata": {},
   "outputs": [
    {
     "data": {
      "text/plain": [
       "torch.Size([1, 28, 28])"
      ]
     },
     "execution_count": 31,
     "metadata": {},
     "output_type": "execute_result"
    }
   ],
   "source": [
    "test_data[0][0].shape"
   ]
  },
  {
   "cell_type": "code",
   "execution_count": 34,
   "metadata": {},
   "outputs": [],
   "source": [
    "# plt.imshow(np.transpose(test_data[0][0], (1,2,0)))\n",
    "# check what is out testing data"
   ]
  },
  {
   "cell_type": "code",
   "execution_count": 35,
   "metadata": {},
   "outputs": [],
   "source": [
    "pred = kyi_model(test_data[0][0])"
   ]
  },
  {
   "cell_type": "code",
   "execution_count": 36,
   "metadata": {},
   "outputs": [
    {
     "data": {
      "text/plain": [
       "tensor([[ -2.6972,  -1.1760,   0.4943,   8.5972, -10.1518,   9.6627,  -9.2457,\n",
       "          -0.6088,  -2.4835,   0.3742]], grad_fn=<AddmmBackward0>)"
      ]
     },
     "execution_count": 36,
     "metadata": {},
     "output_type": "execute_result"
    }
   ],
   "source": [
    "pred\n",
    "# highest is the prediction one"
   ]
  },
  {
   "cell_type": "markdown",
   "metadata": {},
   "source": []
  }
 ],
 "metadata": {
  "kernelspec": {
   "display_name": "Python 3",
   "language": "python",
   "name": "python3"
  },
  "language_info": {
   "codemirror_mode": {
    "name": "ipython",
    "version": 3
   },
   "file_extension": ".py",
   "mimetype": "text/x-python",
   "name": "python",
   "nbconvert_exporter": "python",
   "pygments_lexer": "ipython3",
   "version": "3.11.4"
  }
 },
 "nbformat": 4,
 "nbformat_minor": 2
}
